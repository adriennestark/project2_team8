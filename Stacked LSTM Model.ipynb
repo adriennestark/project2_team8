{
 "cells": [
  {
   "cell_type": "markdown",
   "metadata": {},
   "source": [
    "## Stock Price Prediction and Forecasting Using Stacked LSTM - Deep Learning"
   ]
  },
  {
   "cell_type": "code",
   "execution_count": 4,
   "metadata": {},
   "outputs": [],
   "source": [
    "import pandas as pd\n",
    "import numpy as np\n",
    "import keras\n",
    "import tensorflow as tf\n",
    "import yfinance as yf\n",
    "%matplotlib inline\n",
    "from keras.preprocessing.sequence import TimeseriesGenerator\n",
    "import plotly.graph_objects as go\n",
    "import matplotlib.pyplot as plt\n",
    "plt.style.use('bmh')\n",
    "\n",
    "\n"
   ]
  },
  {
   "cell_type": "code",
   "execution_count": null,
   "metadata": {},
   "outputs": [],
   "source": []
  },
  {
   "cell_type": "code",
   "execution_count": 2,
   "metadata": {},
   "outputs": [
    {
     "name": "stdout",
     "output_type": "stream",
     "text": [
      "[*********************100%***********************]  1 of 1 completed\n"
     ]
    }
   ],
   "source": [
    "# Historical Carnival Cruise Stock Price:\n",
    "# OHLCV using yfinance\n",
    "# Load the stocks data\n",
    "ccl = yf.download(\"CCL\", start=\"2016-01-01\", end=\"2021-01-21\", \n",
    "    index_col=\"Date\", infer_datetime_format=True, parse_dates=True)\n",
    "ccl.dropna(inplace=True)\n",
    "#ccl.head()"
   ]
  },
  {
   "cell_type": "code",
   "execution_count": 3,
   "metadata": {},
   "outputs": [
    {
     "name": "stdout",
     "output_type": "stream",
     "text": [
      "[*********************100%***********************]  1 of 1 completed\n"
     ]
    }
   ],
   "source": [
    "# Historical Delta Airlines Stock Price:\n",
    "# OHLCV using yfinance\n",
    "# Load the stocks data\n",
    "dal = yf.download(\"DAL\", start=\"2016-01-01\", end=\"2021-01-21\", \n",
    "    index_col=\"Date\", infer_datetime_format=True, parse_dates=True)\n",
    "dal.dropna(inplace=True)\n",
    "#dal.head()"
   ]
  },
  {
   "cell_type": "code",
   "execution_count": 5,
   "metadata": {},
   "outputs": [
    {
     "name": "stdout",
     "output_type": "stream",
     "text": [
      "[*********************100%***********************]  1 of 1 completed\n"
     ]
    }
   ],
   "source": [
    "# Historical ETSY Stock Price:\n",
    "# OHLCV using yfinance\n",
    "# Load the stocks data\n",
    "etsy = yf.download(\"ETSY\", start=\"2016-01-01\", end=\"2021-01-21\", \n",
    "    index_col=\"Date\", infer_datetime_format=True, parse_dates=True)\n",
    "etsy.dropna(inplace=True)\n",
    "#etsy.head()"
   ]
  },
  {
   "cell_type": "code",
   "execution_count": 6,
   "metadata": {},
   "outputs": [
    {
     "name": "stdout",
     "output_type": "stream",
     "text": [
      "[*********************100%***********************]  1 of 1 completed\n"
     ]
    }
   ],
   "source": [
    "# Historical L Brands Stock Price:\n",
    "# OHLCV using yfinance\n",
    "# Load the stocks data\n",
    "LB = yf.download(\"LB\", start=\"2016-01-01\", end=\"2021-01-21\", \n",
    "    index_col=\"Date\", infer_datetime_format=True, parse_dates=True)\n",
    "LB.dropna(inplace=True)\n",
    "#LB.head()"
   ]
  },
  {
   "cell_type": "code",
   "execution_count": 54,
   "metadata": {},
   "outputs": [
    {
     "name": "stdout",
     "output_type": "stream",
     "text": [
      "[*********************100%***********************]  1 of 1 completed\n"
     ]
    },
    {
     "data": {
      "text/html": [
       "<div>\n",
       "<style scoped>\n",
       "    .dataframe tbody tr th:only-of-type {\n",
       "        vertical-align: middle;\n",
       "    }\n",
       "\n",
       "    .dataframe tbody tr th {\n",
       "        vertical-align: top;\n",
       "    }\n",
       "\n",
       "    .dataframe thead th {\n",
       "        text-align: right;\n",
       "    }\n",
       "</style>\n",
       "<table border=\"1\" class=\"dataframe\">\n",
       "  <thead>\n",
       "    <tr style=\"text-align: right;\">\n",
       "      <th></th>\n",
       "      <th>Open</th>\n",
       "      <th>High</th>\n",
       "      <th>Low</th>\n",
       "      <th>Close</th>\n",
       "      <th>Adj Close</th>\n",
       "      <th>Volume</th>\n",
       "    </tr>\n",
       "    <tr>\n",
       "      <th>Date</th>\n",
       "      <th></th>\n",
       "      <th></th>\n",
       "      <th></th>\n",
       "      <th></th>\n",
       "      <th></th>\n",
       "      <th></th>\n",
       "    </tr>\n",
       "  </thead>\n",
       "  <tbody>\n",
       "    <tr>\n",
       "      <th>2016-01-04</th>\n",
       "      <td>200.490005</td>\n",
       "      <td>201.029999</td>\n",
       "      <td>198.589996</td>\n",
       "      <td>201.020004</td>\n",
       "      <td>182.513626</td>\n",
       "      <td>222353500</td>\n",
       "    </tr>\n",
       "    <tr>\n",
       "      <th>2016-01-05</th>\n",
       "      <td>201.399994</td>\n",
       "      <td>201.899994</td>\n",
       "      <td>200.050003</td>\n",
       "      <td>201.360001</td>\n",
       "      <td>182.822327</td>\n",
       "      <td>110845800</td>\n",
       "    </tr>\n",
       "    <tr>\n",
       "      <th>2016-01-06</th>\n",
       "      <td>198.339996</td>\n",
       "      <td>200.059998</td>\n",
       "      <td>197.600006</td>\n",
       "      <td>198.820007</td>\n",
       "      <td>180.516174</td>\n",
       "      <td>152112600</td>\n",
       "    </tr>\n",
       "    <tr>\n",
       "      <th>2016-01-07</th>\n",
       "      <td>195.330002</td>\n",
       "      <td>197.440002</td>\n",
       "      <td>193.589996</td>\n",
       "      <td>194.050003</td>\n",
       "      <td>176.185333</td>\n",
       "      <td>213436100</td>\n",
       "    </tr>\n",
       "    <tr>\n",
       "      <th>2016-01-08</th>\n",
       "      <td>195.190002</td>\n",
       "      <td>195.850006</td>\n",
       "      <td>191.580002</td>\n",
       "      <td>191.919998</td>\n",
       "      <td>174.251419</td>\n",
       "      <td>209817200</td>\n",
       "    </tr>\n",
       "  </tbody>\n",
       "</table>\n",
       "</div>"
      ],
      "text/plain": [
       "                  Open        High         Low       Close   Adj Close  \\\n",
       "Date                                                                     \n",
       "2016-01-04  200.490005  201.029999  198.589996  201.020004  182.513626   \n",
       "2016-01-05  201.399994  201.899994  200.050003  201.360001  182.822327   \n",
       "2016-01-06  198.339996  200.059998  197.600006  198.820007  180.516174   \n",
       "2016-01-07  195.330002  197.440002  193.589996  194.050003  176.185333   \n",
       "2016-01-08  195.190002  195.850006  191.580002  191.919998  174.251419   \n",
       "\n",
       "               Volume  \n",
       "Date                   \n",
       "2016-01-04  222353500  \n",
       "2016-01-05  110845800  \n",
       "2016-01-06  152112600  \n",
       "2016-01-07  213436100  \n",
       "2016-01-08  209817200  "
      ]
     },
     "execution_count": 54,
     "metadata": {},
     "output_type": "execute_result"
    }
   ],
   "source": [
    "# Historical SPY Stock Price:\n",
    "# OHLCV using yfinance\n",
    "# Load the stocks data\n",
    "spy = yf.download(\"SPY\", start=\"2016-01-01\", end=\"2021-01-21\", \n",
    "    index_col=\"Date\", infer_datetime_format=True, parse_dates=True)\n",
    "spy.dropna(inplace=True)\n",
    "spy.head()"
   ]
  },
  {
   "cell_type": "code",
   "execution_count": 57,
   "metadata": {},
   "outputs": [
    {
     "data": {
      "text/html": [
       "<div>\n",
       "<style scoped>\n",
       "    .dataframe tbody tr th:only-of-type {\n",
       "        vertical-align: middle;\n",
       "    }\n",
       "\n",
       "    .dataframe tbody tr th {\n",
       "        vertical-align: top;\n",
       "    }\n",
       "\n",
       "    .dataframe thead th {\n",
       "        text-align: right;\n",
       "    }\n",
       "</style>\n",
       "<table border=\"1\" class=\"dataframe\">\n",
       "  <thead>\n",
       "    <tr style=\"text-align: right;\">\n",
       "      <th></th>\n",
       "      <th>Open</th>\n",
       "      <th>High</th>\n",
       "      <th>Low</th>\n",
       "      <th>Close</th>\n",
       "      <th>Adj Close</th>\n",
       "      <th>Volume</th>\n",
       "    </tr>\n",
       "    <tr>\n",
       "      <th>Date</th>\n",
       "      <th></th>\n",
       "      <th></th>\n",
       "      <th></th>\n",
       "      <th></th>\n",
       "      <th></th>\n",
       "      <th></th>\n",
       "    </tr>\n",
       "  </thead>\n",
       "  <tbody>\n",
       "    <tr>\n",
       "      <th>2020-02-13</th>\n",
       "      <td>335.859985</td>\n",
       "      <td>338.119995</td>\n",
       "      <td>335.559998</td>\n",
       "      <td>337.059998</td>\n",
       "      <td>330.880859</td>\n",
       "      <td>54501900</td>\n",
       "    </tr>\n",
       "    <tr>\n",
       "      <th>2020-02-14</th>\n",
       "      <td>337.510010</td>\n",
       "      <td>337.730011</td>\n",
       "      <td>336.200012</td>\n",
       "      <td>337.600006</td>\n",
       "      <td>331.410980</td>\n",
       "      <td>64582200</td>\n",
       "    </tr>\n",
       "    <tr>\n",
       "      <th>2020-02-18</th>\n",
       "      <td>336.510010</td>\n",
       "      <td>337.670013</td>\n",
       "      <td>335.209991</td>\n",
       "      <td>336.730011</td>\n",
       "      <td>330.556915</td>\n",
       "      <td>57226200</td>\n",
       "    </tr>\n",
       "    <tr>\n",
       "      <th>2020-02-19</th>\n",
       "      <td>337.790009</td>\n",
       "      <td>339.079987</td>\n",
       "      <td>337.480011</td>\n",
       "      <td>338.339996</td>\n",
       "      <td>332.137360</td>\n",
       "      <td>48814700</td>\n",
       "    </tr>\n",
       "    <tr>\n",
       "      <th>2020-02-20</th>\n",
       "      <td>337.739990</td>\n",
       "      <td>338.640015</td>\n",
       "      <td>333.679993</td>\n",
       "      <td>336.950012</td>\n",
       "      <td>330.772919</td>\n",
       "      <td>74163400</td>\n",
       "    </tr>\n",
       "  </tbody>\n",
       "</table>\n",
       "</div>"
      ],
      "text/plain": [
       "                  Open        High         Low       Close   Adj Close  \\\n",
       "Date                                                                     \n",
       "2020-02-13  335.859985  338.119995  335.559998  337.059998  330.880859   \n",
       "2020-02-14  337.510010  337.730011  336.200012  337.600006  331.410980   \n",
       "2020-02-18  336.510010  337.670013  335.209991  336.730011  330.556915   \n",
       "2020-02-19  337.790009  339.079987  337.480011  338.339996  332.137360   \n",
       "2020-02-20  337.739990  338.640015  333.679993  336.950012  330.772919   \n",
       "\n",
       "              Volume  \n",
       "Date                  \n",
       "2020-02-13  54501900  \n",
       "2020-02-14  64582200  \n",
       "2020-02-18  57226200  \n",
       "2020-02-19  48814700  \n",
       "2020-02-20  74163400  "
      ]
     },
     "execution_count": 57,
     "metadata": {},
     "output_type": "execute_result"
    }
   ],
   "source": [
    "precovid_spy = spy['2016-01-01' :'2020-02-20']\n",
    "precovid_spy.tail()"
   ]
  },
  {
   "cell_type": "code",
   "execution_count": 8,
   "metadata": {},
   "outputs": [],
   "source": [
    "ccl_df = ccl[['Close']].copy()\n",
    "dal_df = dal[['Close']].copy()\n",
    "etsy_df = etsy[['Close']].copy()\n",
    "LB_df = LB[['Close']].copy()\n",
    "spy_df = spy[['Close']].copy()"
   ]
  },
  {
   "cell_type": "code",
   "execution_count": 13,
   "metadata": {},
   "outputs": [],
   "source": [
    "ccl_df.rename(columns = {'Close':'CCL'}, inplace = True) \n",
    "dal_df.rename(columns = {'Close':'DAL'}, inplace = True) \n",
    "etsy_df.rename(columns = {'Close':'ETSY'}, inplace = True) \n",
    "LB_df.rename(columns = {'Close':'LB'}, inplace = True) \n",
    "spy_df.rename(columns = {'Close':'SPY'}, inplace = True) \n",
    "#spy_df.head()"
   ]
  },
  {
   "cell_type": "code",
   "execution_count": 14,
   "metadata": {},
   "outputs": [
    {
     "data": {
      "text/html": [
       "<div>\n",
       "<style scoped>\n",
       "    .dataframe tbody tr th:only-of-type {\n",
       "        vertical-align: middle;\n",
       "    }\n",
       "\n",
       "    .dataframe tbody tr th {\n",
       "        vertical-align: top;\n",
       "    }\n",
       "\n",
       "    .dataframe thead th {\n",
       "        text-align: right;\n",
       "    }\n",
       "</style>\n",
       "<table border=\"1\" class=\"dataframe\">\n",
       "  <thead>\n",
       "    <tr style=\"text-align: right;\">\n",
       "      <th></th>\n",
       "      <th>CCL</th>\n",
       "      <th>DAL</th>\n",
       "      <th>ETSY</th>\n",
       "      <th>LB</th>\n",
       "      <th>SPY</th>\n",
       "    </tr>\n",
       "    <tr>\n",
       "      <th>Date</th>\n",
       "      <th></th>\n",
       "      <th></th>\n",
       "      <th></th>\n",
       "      <th></th>\n",
       "      <th></th>\n",
       "    </tr>\n",
       "  </thead>\n",
       "  <tbody>\n",
       "    <tr>\n",
       "      <th>2021-01-13</th>\n",
       "      <td>20.100000</td>\n",
       "      <td>40.450001</td>\n",
       "      <td>207.029999</td>\n",
       "      <td>46.160000</td>\n",
       "      <td>379.790009</td>\n",
       "    </tr>\n",
       "    <tr>\n",
       "      <th>2021-01-14</th>\n",
       "      <td>20.920000</td>\n",
       "      <td>41.470001</td>\n",
       "      <td>211.520004</td>\n",
       "      <td>44.980000</td>\n",
       "      <td>378.459991</td>\n",
       "    </tr>\n",
       "    <tr>\n",
       "      <th>2021-01-15</th>\n",
       "      <td>20.790001</td>\n",
       "      <td>39.980000</td>\n",
       "      <td>204.419998</td>\n",
       "      <td>45.200001</td>\n",
       "      <td>375.700012</td>\n",
       "    </tr>\n",
       "    <tr>\n",
       "      <th>2021-01-19</th>\n",
       "      <td>20.870001</td>\n",
       "      <td>40.310001</td>\n",
       "      <td>221.309998</td>\n",
       "      <td>45.730000</td>\n",
       "      <td>378.649994</td>\n",
       "    </tr>\n",
       "    <tr>\n",
       "      <th>2021-01-20</th>\n",
       "      <td>20.780001</td>\n",
       "      <td>41.619999</td>\n",
       "      <td>215.690002</td>\n",
       "      <td>45.560001</td>\n",
       "      <td>383.890015</td>\n",
       "    </tr>\n",
       "  </tbody>\n",
       "</table>\n",
       "</div>"
      ],
      "text/plain": [
       "                  CCL        DAL        ETSY         LB         SPY\n",
       "Date                                                               \n",
       "2021-01-13  20.100000  40.450001  207.029999  46.160000  379.790009\n",
       "2021-01-14  20.920000  41.470001  211.520004  44.980000  378.459991\n",
       "2021-01-15  20.790001  39.980000  204.419998  45.200001  375.700012\n",
       "2021-01-19  20.870001  40.310001  221.309998  45.730000  378.649994\n",
       "2021-01-20  20.780001  41.619999  215.690002  45.560001  383.890015"
      ]
     },
     "execution_count": 14,
     "metadata": {},
     "output_type": "execute_result"
    }
   ],
   "source": [
    "dfs = [ccl_df, dal_df, etsy_df, LB_df,spy_df ]\n",
    "df = pd.concat(dfs,axis=1,join=\"outer\",ignore_index=False)\n",
    "df.tail()"
   ]
  },
  {
   "cell_type": "code",
   "execution_count": 15,
   "metadata": {},
   "outputs": [
    {
     "data": {
      "text/html": [
       "<div>\n",
       "<style scoped>\n",
       "    .dataframe tbody tr th:only-of-type {\n",
       "        vertical-align: middle;\n",
       "    }\n",
       "\n",
       "    .dataframe tbody tr th {\n",
       "        vertical-align: top;\n",
       "    }\n",
       "\n",
       "    .dataframe thead th {\n",
       "        text-align: right;\n",
       "    }\n",
       "</style>\n",
       "<table border=\"1\" class=\"dataframe\">\n",
       "  <thead>\n",
       "    <tr style=\"text-align: right;\">\n",
       "      <th></th>\n",
       "      <th>CCL</th>\n",
       "      <th>DAL</th>\n",
       "      <th>ETSY</th>\n",
       "      <th>LB</th>\n",
       "      <th>SPY</th>\n",
       "    </tr>\n",
       "    <tr>\n",
       "      <th>Date</th>\n",
       "      <th></th>\n",
       "      <th></th>\n",
       "      <th></th>\n",
       "      <th></th>\n",
       "      <th></th>\n",
       "    </tr>\n",
       "  </thead>\n",
       "  <tbody>\n",
       "    <tr>\n",
       "      <th>2020-02-13</th>\n",
       "      <td>43.200001</td>\n",
       "      <td>59.130001</td>\n",
       "      <td>52.970001</td>\n",
       "      <td>24.280001</td>\n",
       "      <td>337.059998</td>\n",
       "    </tr>\n",
       "    <tr>\n",
       "      <th>2020-02-14</th>\n",
       "      <td>42.599998</td>\n",
       "      <td>58.900002</td>\n",
       "      <td>53.160000</td>\n",
       "      <td>24.340000</td>\n",
       "      <td>337.600006</td>\n",
       "    </tr>\n",
       "    <tr>\n",
       "      <th>2020-02-18</th>\n",
       "      <td>42.919998</td>\n",
       "      <td>58.720001</td>\n",
       "      <td>53.320000</td>\n",
       "      <td>24.090000</td>\n",
       "      <td>336.730011</td>\n",
       "    </tr>\n",
       "    <tr>\n",
       "      <th>2020-02-19</th>\n",
       "      <td>43.340000</td>\n",
       "      <td>58.509998</td>\n",
       "      <td>53.180000</td>\n",
       "      <td>24.600000</td>\n",
       "      <td>338.339996</td>\n",
       "    </tr>\n",
       "    <tr>\n",
       "      <th>2020-02-20</th>\n",
       "      <td>42.500000</td>\n",
       "      <td>58.380001</td>\n",
       "      <td>54.389999</td>\n",
       "      <td>23.420000</td>\n",
       "      <td>336.950012</td>\n",
       "    </tr>\n",
       "  </tbody>\n",
       "</table>\n",
       "</div>"
      ],
      "text/plain": [
       "                  CCL        DAL       ETSY         LB         SPY\n",
       "Date                                                              \n",
       "2020-02-13  43.200001  59.130001  52.970001  24.280001  337.059998\n",
       "2020-02-14  42.599998  58.900002  53.160000  24.340000  337.600006\n",
       "2020-02-18  42.919998  58.720001  53.320000  24.090000  336.730011\n",
       "2020-02-19  43.340000  58.509998  53.180000  24.600000  338.339996\n",
       "2020-02-20  42.500000  58.380001  54.389999  23.420000  336.950012"
      ]
     },
     "execution_count": 15,
     "metadata": {},
     "output_type": "execute_result"
    }
   ],
   "source": [
    "precovid_df = df['2016-01-01' :'2020-02-20']\n",
    "precovid_df.tail()"
   ]
  },
  {
   "cell_type": "code",
   "execution_count": 16,
   "metadata": {},
   "outputs": [
    {
     "data": {
      "text/html": [
       "<div>\n",
       "<style scoped>\n",
       "    .dataframe tbody tr th:only-of-type {\n",
       "        vertical-align: middle;\n",
       "    }\n",
       "\n",
       "    .dataframe tbody tr th {\n",
       "        vertical-align: top;\n",
       "    }\n",
       "\n",
       "    .dataframe thead th {\n",
       "        text-align: right;\n",
       "    }\n",
       "</style>\n",
       "<table border=\"1\" class=\"dataframe\">\n",
       "  <thead>\n",
       "    <tr style=\"text-align: right;\">\n",
       "      <th></th>\n",
       "      <th>CCL</th>\n",
       "      <th>DAL</th>\n",
       "      <th>ETSY</th>\n",
       "      <th>LB</th>\n",
       "      <th>SPY</th>\n",
       "    </tr>\n",
       "    <tr>\n",
       "      <th>Date</th>\n",
       "      <th></th>\n",
       "      <th></th>\n",
       "      <th></th>\n",
       "      <th></th>\n",
       "      <th></th>\n",
       "    </tr>\n",
       "  </thead>\n",
       "  <tbody>\n",
       "    <tr>\n",
       "      <th>2020-02-21</th>\n",
       "      <td>41.689999</td>\n",
       "      <td>57.869999</td>\n",
       "      <td>53.700001</td>\n",
       "      <td>24.070000</td>\n",
       "      <td>333.480011</td>\n",
       "    </tr>\n",
       "    <tr>\n",
       "      <th>2020-02-24</th>\n",
       "      <td>37.759998</td>\n",
       "      <td>54.230000</td>\n",
       "      <td>51.330002</td>\n",
       "      <td>23.650000</td>\n",
       "      <td>322.420013</td>\n",
       "    </tr>\n",
       "    <tr>\n",
       "      <th>2020-02-25</th>\n",
       "      <td>35.840000</td>\n",
       "      <td>50.889999</td>\n",
       "      <td>49.889999</td>\n",
       "      <td>23.500000</td>\n",
       "      <td>312.649994</td>\n",
       "    </tr>\n",
       "    <tr>\n",
       "      <th>2020-02-26</th>\n",
       "      <td>33.139999</td>\n",
       "      <td>49.590000</td>\n",
       "      <td>50.689999</td>\n",
       "      <td>22.780001</td>\n",
       "      <td>311.500000</td>\n",
       "    </tr>\n",
       "    <tr>\n",
       "      <th>2020-02-27</th>\n",
       "      <td>31.850000</td>\n",
       "      <td>48.189999</td>\n",
       "      <td>57.919998</td>\n",
       "      <td>23.049999</td>\n",
       "      <td>297.510010</td>\n",
       "    </tr>\n",
       "  </tbody>\n",
       "</table>\n",
       "</div>"
      ],
      "text/plain": [
       "                  CCL        DAL       ETSY         LB         SPY\n",
       "Date                                                              \n",
       "2020-02-21  41.689999  57.869999  53.700001  24.070000  333.480011\n",
       "2020-02-24  37.759998  54.230000  51.330002  23.650000  322.420013\n",
       "2020-02-25  35.840000  50.889999  49.889999  23.500000  312.649994\n",
       "2020-02-26  33.139999  49.590000  50.689999  22.780001  311.500000\n",
       "2020-02-27  31.850000  48.189999  57.919998  23.049999  297.510010"
      ]
     },
     "execution_count": 16,
     "metadata": {},
     "output_type": "execute_result"
    }
   ],
   "source": [
    "covid_df = df['2020-02-21' :'2021-01-21']\n",
    "covid_df.head()"
   ]
  },
  {
   "cell_type": "code",
   "execution_count": 40,
   "metadata": {},
   "outputs": [],
   "source": [
    "import math\n",
    "from sklearn.preprocessing import MinMaxScaler\n",
    "from keras.models import Sequential\n",
    "from keras.layers  import Dense, LSTM\n",
    "import matplotlib. pyplot as plt\n"
   ]
  },
  {
   "cell_type": "code",
   "execution_count": 58,
   "metadata": {},
   "outputs": [
    {
     "data": {
      "text/html": [
       "<div>\n",
       "<style scoped>\n",
       "    .dataframe tbody tr th:only-of-type {\n",
       "        vertical-align: middle;\n",
       "    }\n",
       "\n",
       "    .dataframe tbody tr th {\n",
       "        vertical-align: top;\n",
       "    }\n",
       "\n",
       "    .dataframe thead th {\n",
       "        text-align: right;\n",
       "    }\n",
       "</style>\n",
       "<table border=\"1\" class=\"dataframe\">\n",
       "  <thead>\n",
       "    <tr style=\"text-align: right;\">\n",
       "      <th></th>\n",
       "      <th>Open</th>\n",
       "      <th>High</th>\n",
       "      <th>Low</th>\n",
       "      <th>Close</th>\n",
       "      <th>Adj Close</th>\n",
       "      <th>Volume</th>\n",
       "    </tr>\n",
       "    <tr>\n",
       "      <th>Date</th>\n",
       "      <th></th>\n",
       "      <th></th>\n",
       "      <th></th>\n",
       "      <th></th>\n",
       "      <th></th>\n",
       "      <th></th>\n",
       "    </tr>\n",
       "  </thead>\n",
       "  <tbody>\n",
       "    <tr>\n",
       "      <th>2016-01-04</th>\n",
       "      <td>200.490005</td>\n",
       "      <td>201.029999</td>\n",
       "      <td>198.589996</td>\n",
       "      <td>201.020004</td>\n",
       "      <td>182.513626</td>\n",
       "      <td>222353500</td>\n",
       "    </tr>\n",
       "    <tr>\n",
       "      <th>2016-01-05</th>\n",
       "      <td>201.399994</td>\n",
       "      <td>201.899994</td>\n",
       "      <td>200.050003</td>\n",
       "      <td>201.360001</td>\n",
       "      <td>182.822327</td>\n",
       "      <td>110845800</td>\n",
       "    </tr>\n",
       "    <tr>\n",
       "      <th>2016-01-06</th>\n",
       "      <td>198.339996</td>\n",
       "      <td>200.059998</td>\n",
       "      <td>197.600006</td>\n",
       "      <td>198.820007</td>\n",
       "      <td>180.516174</td>\n",
       "      <td>152112600</td>\n",
       "    </tr>\n",
       "    <tr>\n",
       "      <th>2016-01-07</th>\n",
       "      <td>195.330002</td>\n",
       "      <td>197.440002</td>\n",
       "      <td>193.589996</td>\n",
       "      <td>194.050003</td>\n",
       "      <td>176.185333</td>\n",
       "      <td>213436100</td>\n",
       "    </tr>\n",
       "    <tr>\n",
       "      <th>2016-01-08</th>\n",
       "      <td>195.190002</td>\n",
       "      <td>195.850006</td>\n",
       "      <td>191.580002</td>\n",
       "      <td>191.919998</td>\n",
       "      <td>174.251419</td>\n",
       "      <td>209817200</td>\n",
       "    </tr>\n",
       "  </tbody>\n",
       "</table>\n",
       "</div>"
      ],
      "text/plain": [
       "                  Open        High         Low       Close   Adj Close  \\\n",
       "Date                                                                     \n",
       "2016-01-04  200.490005  201.029999  198.589996  201.020004  182.513626   \n",
       "2016-01-05  201.399994  201.899994  200.050003  201.360001  182.822327   \n",
       "2016-01-06  198.339996  200.059998  197.600006  198.820007  180.516174   \n",
       "2016-01-07  195.330002  197.440002  193.589996  194.050003  176.185333   \n",
       "2016-01-08  195.190002  195.850006  191.580002  191.919998  174.251419   \n",
       "\n",
       "               Volume  \n",
       "Date                   \n",
       "2016-01-04  222353500  \n",
       "2016-01-05  110845800  \n",
       "2016-01-06  152112600  \n",
       "2016-01-07  213436100  \n",
       "2016-01-08  209817200  "
      ]
     },
     "execution_count": 58,
     "metadata": {},
     "output_type": "execute_result"
    }
   ],
   "source": [
    "#precovid_spy  = precovid_spy[['Close']].copy()\n",
    "precovid_spy.head()"
   ]
  },
  {
   "cell_type": "code",
   "execution_count": 60,
   "metadata": {},
   "outputs": [
    {
     "data": {
      "text/plain": [
       "Text(0, 0.5, 'SPY Close price in $')"
      ]
     },
     "execution_count": 60,
     "metadata": {},
     "output_type": "execute_result"
    },
    {
     "data": {
      "image/png": "[encoded data removed]",
      "text/plain": [
       "<Figure size 1152x576 with 1 Axes>"
      ]
     },
     "metadata": {
      "needs_background": "light"
     },
     "output_type": "display_data"
    }
   ],
   "source": [
    "plt.figure(figsize=(16,8))\n",
    "plt.title(\"SPY CLose Price\")\n",
    "plt.plot(precovid_spy[\"Close\"])\n",
    "plt.xlabel(\"Date\", fontsize=18)\n",
    "plt.ylabel(\"SPY Close price in $\", fontsize=18)"
   ]
  },
  {
   "cell_type": "code",
   "execution_count": 64,
   "metadata": {},
   "outputs": [
    {
     "data": {
      "text/plain": [
       "1040"
      ]
     },
     "execution_count": 64,
     "metadata": {},
     "output_type": "execute_result"
    }
   ],
   "source": [
    "data = precovid_spy.filter(['Close'])\n",
    "dataset = data.values\n",
    "len(dataset)"
   ]
  },
  {
   "cell_type": "code",
   "execution_count": 65,
   "metadata": {},
   "outputs": [
    {
     "data": {
      "text/plain": [
       "728"
      ]
     },
     "execution_count": 65,
     "metadata": {},
     "output_type": "execute_result"
    }
   ],
   "source": [
    "training_data_size = math.ceil(len(dataset)*.7)\n",
    "training_data_size"
   ]
  },
  {
   "cell_type": "code",
   "execution_count": 66,
   "metadata": {},
   "outputs": [
    {
     "data": {
      "text/plain": [
       "array([[0.11679962],\n",
       "       [0.11898637],\n",
       "       [0.1026499 ],\n",
       "       ...,\n",
       "       [0.98964506],\n",
       "       [1.        ],\n",
       "       [0.99106005]])"
      ]
     },
     "execution_count": 66,
     "metadata": {},
     "output_type": "execute_result"
    }
   ],
   "source": [
    "scaler = MinMaxScaler(feature_range=(0,1))\n",
    "scaled_data = scaler.fit_transform(dataset)\n",
    "scaled_data"
   ]
  },
  {
   "cell_type": "code",
   "execution_count": 67,
   "metadata": {},
   "outputs": [
    {
     "name": "stdout",
     "output_type": "stream",
     "text": [
      "[array([0.11679962, 0.11898637, 0.1026499 , 0.07197069, 0.05827115,\n",
      "       0.05949318, 0.06946233, 0.03839723, 0.05833543, 0.03183687,\n",
      "       0.0334448 , 0.01794439, 0.02463341, 0.04926681, 0.0307435 ,\n",
      "       0.04720862, 0.03389506, 0.0401981 , 0.06984822, 0.06939795,\n",
      "       0.0469514 , 0.05428353, 0.05621305, 0.03273731, 0.01646512,\n",
      "       0.01652941, 0.01550041, 0.        , 0.02424752, 0.04450732,\n",
      "       0.06444562, 0.05936452, 0.05878569, 0.0766658 , 0.06084388,\n",
      "       0.06650371, 0.08155385, 0.07865961, 0.06881912, 0.09808336,\n",
      "       0.10380756, 0.10882428, 0.11300484, 0.11403394, 0.09994851,\n",
      "       0.10625164, 0.10728064, 0.1279907 , 0.1263185 , 0.12419603,\n",
      "       0.1317211 , 0.14001804, 0.13841012, 0.14027526, 0.13956777,\n",
      "       0.13088504, 0.13030612, 0.13107799, 0.14316951, 0.14895809])]\n",
      "[0.14574224520701984]\n",
      "[array([0.11679962, 0.11898637, 0.1026499 , 0.07197069, 0.05827115,\n",
      "       0.05949318, 0.06946233, 0.03839723, 0.05833543, 0.03183687,\n",
      "       0.0334448 , 0.01794439, 0.02463341, 0.04926681, 0.0307435 ,\n",
      "       0.04720862, 0.03389506, 0.0401981 , 0.06984822, 0.06939795,\n",
      "       0.0469514 , 0.05428353, 0.05621305, 0.03273731, 0.01646512,\n",
      "       0.01652941, 0.01550041, 0.        , 0.02424752, 0.04450732,\n",
      "       0.06444562, 0.05936452, 0.05878569, 0.0766658 , 0.06084388,\n",
      "       0.06650371, 0.08155385, 0.07865961, 0.06881912, 0.09808336,\n",
      "       0.10380756, 0.10882428, 0.11300484, 0.11403394, 0.09994851,\n",
      "       0.10625164, 0.10728064, 0.1279907 , 0.1263185 , 0.12419603,\n",
      "       0.1317211 , 0.14001804, 0.13841012, 0.14027526, 0.13956777,\n",
      "       0.13088504, 0.13030612, 0.13107799, 0.14316951, 0.14895809]), array([0.11898637, 0.1026499 , 0.07197069, 0.05827115, 0.05949318,\n",
      "       0.06946233, 0.03839723, 0.05833543, 0.03183687, 0.0334448 ,\n",
      "       0.01794439, 0.02463341, 0.04926681, 0.0307435 , 0.04720862,\n",
      "       0.03389506, 0.0401981 , 0.06984822, 0.06939795, 0.0469514 ,\n",
      "       0.05428353, 0.05621305, 0.03273731, 0.01646512, 0.01652941,\n",
      "       0.01550041, 0.        , 0.02424752, 0.04450732, 0.06444562,\n",
      "       0.05936452, 0.05878569, 0.0766658 , 0.06084388, 0.06650371,\n",
      "       0.08155385, 0.07865961, 0.06881912, 0.09808336, 0.10380756,\n",
      "       0.10882428, 0.11300484, 0.11403394, 0.09994851, 0.10625164,\n",
      "       0.10728064, 0.1279907 , 0.1263185 , 0.12419603, 0.1317211 ,\n",
      "       0.14001804, 0.13841012, 0.14027526, 0.13956777, 0.13088504,\n",
      "       0.13030612, 0.13107799, 0.14316951, 0.14895809, 0.14574225])]\n",
      "[0.14574224520701984, 0.15474657975136674]\n"
     ]
    }
   ],
   "source": [
    "train_data = scaled_data[0:training_data_size, :]\n",
    "x_train = []\n",
    "y_train = []\n",
    "for i in range(60, len(train_data)):\n",
    "    x_train.append(train_data[i-60:i, 0])\n",
    "    y_train.append(train_data[i,0])\n",
    "    if i<=61:\n",
    "        print(x_train)\n",
    "        print(y_train)"
   ]
  },
  {
   "cell_type": "code",
   "execution_count": 68,
   "metadata": {},
   "outputs": [
    {
     "data": {
      "text/plain": [
       "(668, 60, 1)"
      ]
     },
     "execution_count": 68,
     "metadata": {},
     "output_type": "execute_result"
    }
   ],
   "source": [
    "x_train, Y_train = np.array(x_train), np.array(y_train)\n",
    "x_train = np.reshape(x_train, (x_train.shape[0], x_train.shape[1], 1))\n",
    "x_train.shape"
   ]
  },
  {
   "cell_type": "markdown",
   "metadata": {},
   "source": [
    "### Building Compiling training and testing the LSTM model\n"
   ]
  },
  {
   "cell_type": "code",
   "execution_count": 69,
   "metadata": {},
   "outputs": [],
   "source": [
    "model=Sequential()\n",
    "model.add(LSTM(50, return_sequences=True, input_shape=(x_train.shape[1], 1)))\n",
    "model.add(LSTM(50, return_sequences=False))\n",
    "model.add(Dense(25))\n",
    "model.add(Dense(1))"
   ]
  },
  {
   "cell_type": "code",
   "execution_count": 70,
   "metadata": {},
   "outputs": [],
   "source": [
    "model.compile(optimizer='adam', loss='mean_squared_error')"
   ]
  },
  {
   "cell_type": "code",
   "execution_count": 71,
   "metadata": {},
   "outputs": [
    {
     "ename": "ValueError",
     "evalue": "Failed to find data adapter that can handle input: <class 'numpy.ndarray'>, (<class 'list'> containing values of types {\"<class 'numpy.float64'>\"})",
     "output_type": "error",
     "traceback": [
      "\u001b[1;31m---------------------------------------------------------------------------\u001b[0m",
      "\u001b[1;31mValueError\u001b[0m                                Traceback (most recent call last)",
      "\u001b[1;32m<ipython-input-71-1fa493b156d4>\u001b[0m in \u001b[0;36m<module>\u001b[1;34m\u001b[0m\n\u001b[1;32m----> 1\u001b[1;33m \u001b[0mmodel\u001b[0m\u001b[1;33m.\u001b[0m\u001b[0mfit\u001b[0m\u001b[1;33m(\u001b[0m\u001b[0mx_train\u001b[0m\u001b[1;33m,\u001b[0m \u001b[0my_train\u001b[0m\u001b[1;33m,\u001b[0m \u001b[0mbatch_size\u001b[0m\u001b[1;33m=\u001b[0m\u001b[1;36m1\u001b[0m\u001b[1;33m,\u001b[0m \u001b[0mepochs\u001b[0m\u001b[1;33m=\u001b[0m\u001b[1;36m1\u001b[0m\u001b[1;33m)\u001b[0m\u001b[1;33m\u001b[0m\u001b[1;33m\u001b[0m\u001b[0m\n\u001b[0m",
      "\u001b[1;32m~\\AppData\\Roaming\\Python\\Python37\\site-packages\\tensorflow\\python\\keras\\engine\\training.py\u001b[0m in \u001b[0;36mfit\u001b[1;34m(self, x, y, batch_size, epochs, verbose, callbacks, validation_split, validation_data, shuffle, class_weight, sample_weight, initial_epoch, steps_per_epoch, validation_steps, validation_batch_size, validation_freq, max_queue_size, workers, use_multiprocessing)\u001b[0m\n\u001b[0;32m   1062\u001b[0m           \u001b[0muse_multiprocessing\u001b[0m\u001b[1;33m=\u001b[0m\u001b[0muse_multiprocessing\u001b[0m\u001b[1;33m,\u001b[0m\u001b[1;33m\u001b[0m\u001b[1;33m\u001b[0m\u001b[0m\n\u001b[0;32m   1063\u001b[0m           \u001b[0mmodel\u001b[0m\u001b[1;33m=\u001b[0m\u001b[0mself\u001b[0m\u001b[1;33m,\u001b[0m\u001b[1;33m\u001b[0m\u001b[1;33m\u001b[0m\u001b[0m\n\u001b[1;32m-> 1064\u001b[1;33m           steps_per_execution=self._steps_per_execution)\n\u001b[0m\u001b[0;32m   1065\u001b[0m \u001b[1;33m\u001b[0m\u001b[0m\n\u001b[0;32m   1066\u001b[0m       \u001b[1;31m# Container that configures and calls `tf.keras.Callback`s.\u001b[0m\u001b[1;33m\u001b[0m\u001b[1;33m\u001b[0m\u001b[1;33m\u001b[0m\u001b[0m\n",
      "\u001b[1;32m~\\AppData\\Roaming\\Python\\Python37\\site-packages\\tensorflow\\python\\keras\\engine\\data_adapter.py\u001b[0m in \u001b[0;36m__init__\u001b[1;34m(self, x, y, sample_weight, batch_size, steps_per_epoch, initial_epoch, epochs, shuffle, class_weight, max_queue_size, workers, use_multiprocessing, model, steps_per_execution)\u001b[0m\n\u001b[0;32m   1097\u001b[0m       \u001b[0mself\u001b[0m\u001b[1;33m.\u001b[0m\u001b[0m_steps_per_execution_value\u001b[0m \u001b[1;33m=\u001b[0m \u001b[0msteps_per_execution\u001b[0m\u001b[1;33m.\u001b[0m\u001b[0mnumpy\u001b[0m\u001b[1;33m(\u001b[0m\u001b[1;33m)\u001b[0m\u001b[1;33m.\u001b[0m\u001b[0mitem\u001b[0m\u001b[1;33m(\u001b[0m\u001b[1;33m)\u001b[0m\u001b[1;33m\u001b[0m\u001b[1;33m\u001b[0m\u001b[0m\n\u001b[0;32m   1098\u001b[0m \u001b[1;33m\u001b[0m\u001b[0m\n\u001b[1;32m-> 1099\u001b[1;33m     \u001b[0madapter_cls\u001b[0m \u001b[1;33m=\u001b[0m \u001b[0mselect_data_adapter\u001b[0m\u001b[1;33m(\u001b[0m\u001b[0mx\u001b[0m\u001b[1;33m,\u001b[0m \u001b[0my\u001b[0m\u001b[1;33m)\u001b[0m\u001b[1;33m\u001b[0m\u001b[1;33m\u001b[0m\u001b[0m\n\u001b[0m\u001b[0;32m   1100\u001b[0m     self._adapter = adapter_cls(\n\u001b[0;32m   1101\u001b[0m         \u001b[0mx\u001b[0m\u001b[1;33m,\u001b[0m\u001b[1;33m\u001b[0m\u001b[1;33m\u001b[0m\u001b[0m\n",
      "\u001b[1;32m~\\AppData\\Roaming\\Python\\Python37\\site-packages\\tensorflow\\python\\keras\\engine\\data_adapter.py\u001b[0m in \u001b[0;36mselect_data_adapter\u001b[1;34m(x, y)\u001b[0m\n\u001b[0;32m    962\u001b[0m         \u001b[1;34m\"Failed to find data adapter that can handle \"\u001b[0m\u001b[1;33m\u001b[0m\u001b[1;33m\u001b[0m\u001b[0m\n\u001b[0;32m    963\u001b[0m         \"input: {}, {}\".format(\n\u001b[1;32m--> 964\u001b[1;33m             _type_name(x), _type_name(y)))\n\u001b[0m\u001b[0;32m    965\u001b[0m   \u001b[1;32melif\u001b[0m \u001b[0mlen\u001b[0m\u001b[1;33m(\u001b[0m\u001b[0madapter_cls\u001b[0m\u001b[1;33m)\u001b[0m \u001b[1;33m>\u001b[0m \u001b[1;36m1\u001b[0m\u001b[1;33m:\u001b[0m\u001b[1;33m\u001b[0m\u001b[1;33m\u001b[0m\u001b[0m\n\u001b[0;32m    966\u001b[0m     raise RuntimeError(\n",
      "\u001b[1;31mValueError\u001b[0m: Failed to find data adapter that can handle input: <class 'numpy.ndarray'>, (<class 'list'> containing values of types {\"<class 'numpy.float64'>\"})"
     ]
    }
   ],
   "source": [
    "model.fit(x_train, y_train, batch_size=1, epochs=1)"
   ]
  },
  {
   "cell_type": "code",
   "execution_count": null,
   "metadata": {},
   "outputs": [],
   "source": [
    "test_data = scaled_data[training_data_size - 60: , :]\n",
    "x_test = []\n",
    "y_test = dataset[training_data_size:, :]\n",
    "for i in range(60, len(test_data)):\n",
    "    x_test.append(test_data[i-60:i, 0])\n",
    "    "
   ]
  },
  {
   "cell_type": "code",
   "execution_count": null,
   "metadata": {},
   "outputs": [],
   "source": [
    "x_test = np.array(x_test)"
   ]
  },
  {
   "cell_type": "code",
   "execution_count": null,
   "metadata": {},
   "outputs": [],
   "source": [
    "x_test = np.reshape(x_test, (x_test.shape[0], x_test.shape[1],1))"
   ]
  },
  {
   "cell_type": "code",
   "execution_count": null,
   "metadata": {},
   "outputs": [],
   "source": [
    "predictions = model.predict(x_test)\n",
    "predictions = scaler.inverse_transform(predictions)"
   ]
  },
  {
   "cell_type": "code",
   "execution_count": null,
   "metadata": {},
   "outputs": [],
   "source": [
    "rmse = np.sqrt(np.mean(predictions - y_test2)**2)\n",
    "rmse"
   ]
  },
  {
   "cell_type": "code",
   "execution_count": null,
   "metadata": {},
   "outputs": [],
   "source": [
    "train = data[:training_data_size]\n",
    "valid = data[training_data_size:]\n",
    "valid['predictions'] = predictions\n",
    "plt.figure(figsize=16,8)\n",
    "plt.title('Model LM')\n",
    "plt.xlabel('Date', fontsize=18)\n",
    "plt.ylabel('close price in $', fontsize=18)\n",
    "plt.plot(train['Close'])\n",
    "plt.plot(valid[['Close', 'predictions']])\n",
    "plt.legend(['Train', 'Val', 'predictions'], loc='lower right')\n",
    "plt.show"
   ]
  },
  {
   "cell_type": "code",
   "execution_count": null,
   "metadata": {},
   "outputs": [],
   "source": [
    "valid"
   ]
  },
  {
   "cell_type": "code",
   "execution_count": null,
   "metadata": {},
   "outputs": [],
   "source": []
  },
  {
   "cell_type": "code",
   "execution_count": null,
   "metadata": {},
   "outputs": [],
   "source": []
  },
  {
   "cell_type": "code",
   "execution_count": null,
   "metadata": {},
   "outputs": [],
   "source": []
  }
 ],
 "metadata": {
  "kernelspec": {
   "display_name": "deeplearning",
   "language": "python",
   "name": "deeplearning"
  },
  "language_info": {
   "codemirror_mode": {
    "name": "ipython",
    "version": 3
   },
   "file_extension": ".py",
   "mimetype": "text/x-python",
   "name": "python",
   "nbconvert_exporter": "python",
   "pygments_lexer": "ipython3",
   "version": "3.7.9"
  }
 },
 "nbformat": 4,
 "nbformat_minor": 4
}
