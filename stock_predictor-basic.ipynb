{
 "cells": [
  {
   "cell_type": "markdown",
   "metadata": {},
   "source": [
    "# LSTM Stock Predictor Using Closing Prices\n",
    "\n",
    "### Data Preparation\n",
    "\n",
    "### In this section, we will prepare the training and testing data for the LSTM model.\n",
    "\n",
    "### We will need to:\n",
    "    1. Use window_data function to generate X and y values for the model.\n",
    "    2. Split the data into 70% training and 30% testing\n",
    "    3. Apply the MinMaxScaler to the X and y values\n",
    "    4. Reshape the X_train and X_test data for the model.\n",
    "    \n",
    "### **Note**: The required input format for the LSTM is:\n",
    "\n",
    "            reshape((X_train.shape[0], X_train.shape[1], 1))    "
   ]
  },
  {
   "cell_type": "code",
   "execution_count": 156,
   "metadata": {},
   "outputs": [],
   "source": [
    "# Initial imports\n",
    "import numpy as np\n",
    "import pandas as pd\n",
    "from pathlib import Path\n",
    "import yfinance as yf\n",
    "%matplotlib inline"
   ]
  },
  {
   "cell_type": "code",
   "execution_count": 157,
   "metadata": {},
   "outputs": [],
   "source": [
    "# Set the random seed for reproducibility\n",
    "# Note: This is used for model prototyping, but it is good practice to comment this out and run multiple experiments to evaluate your model.\n",
    "from numpy.random import seed\n",
    "\n",
    "seed(1)\n",
    "from tensorflow import random\n",
    "\n",
    "random.set_seed(2)"
   ]
  },
  {
   "cell_type": "markdown",
   "metadata": {},
   "source": [
    "### Data Loading\n",
    "\n",
    "In this activity, we will use closing prices from different stocks to make predictions of future closing prices based on the temporal data of each stock."
   ]
  },
  {
   "cell_type": "code",
   "execution_count": 158,
   "metadata": {},
   "outputs": [
    {
     "name": "stdout",
     "output_type": "stream",
     "text": [
      "[*********************100%***********************]  1 of 1 completed\n"
     ]
    }
   ],
   "source": [
    "# Historical Carnival Cruise Stock Price:\n",
    "# OHLCV using yfinance\n",
    "# Load the stocks data\n",
    "ccl = yf.download(\"CCL\", start=\"2010-01-01\", end=\"2021-01-21\", \n",
    "    index_col=\"Date\", infer_datetime_format=True, parse_dates=True)\n",
    "ccl.dropna(inplace=True)\n",
    "#ccl.head()"
   ]
  },
  {
   "cell_type": "code",
   "execution_count": 159,
   "metadata": {},
   "outputs": [
    {
     "name": "stdout",
     "output_type": "stream",
     "text": [
      "[*********************100%***********************]  1 of 1 completed\n"
     ]
    }
   ],
   "source": [
    "# Historical Delta Airlines Stock Price:\n",
    "# OHLCV using yfinance\n",
    "# Load the stocks data\n",
    "dal = yf.download(\"DAL\", start=\"2010-01-01\", end=\"2021-01-21\", \n",
    "    index_col=\"Date\", infer_datetime_format=True, parse_dates=True)\n",
    "dal.dropna(inplace=True)\n",
    "#dal.head()"
   ]
  },
  {
   "cell_type": "code",
   "execution_count": 160,
   "metadata": {},
   "outputs": [
    {
     "name": "stdout",
     "output_type": "stream",
     "text": [
      "[*********************100%***********************]  1 of 1 completed\n"
     ]
    }
   ],
   "source": [
    "# Historical ETSY Stock Price:\n",
    "# OHLCV using yfinance\n",
    "# Load the stocks data\n",
    "etsy = yf.download(\"ETSY\", start=\"2010-01-01\", end=\"2021-01-21\", \n",
    "    index_col=\"Date\", infer_datetime_format=True, parse_dates=True)\n",
    "etsy.dropna(inplace=True)\n",
    "#etsy.head()"
   ]
  },
  {
   "cell_type": "code",
   "execution_count": 161,
   "metadata": {},
   "outputs": [
    {
     "name": "stdout",
     "output_type": "stream",
     "text": [
      "[*********************100%***********************]  1 of 1 completed\n"
     ]
    }
   ],
   "source": [
    "# Historical L Brands Stock Price:\n",
    "# OHLCV using yfinance\n",
    "# Load the stocks data\n",
    "LB = yf.download(\"LB\", start=\"2010-01-01\", end=\"2021-01-21\", \n",
    "    index_col=\"Date\", infer_datetime_format=True, parse_dates=True)\n",
    "LB.dropna(inplace=True)\n",
    "#LB.head()"
   ]
  },
  {
   "cell_type": "code",
   "execution_count": 162,
   "metadata": {},
   "outputs": [
    {
     "name": "stdout",
     "output_type": "stream",
     "text": [
      "[*********************100%***********************]  1 of 1 completed\n"
     ]
    }
   ],
   "source": [
    "# Historical SPY Stock Price:\n",
    "# OHLCV using yfinance\n",
    "# Load the stocks data\n",
    "spy = yf.download(\"SPY\", start=\"2010-01-01\", end=\"2021-01-21\", \n",
    "    index_col=\"Date\", infer_datetime_format=True, parse_dates=True)\n",
    "spy.dropna(inplace=True)\n",
    "#spy.head()"
   ]
  },
  {
   "cell_type": "code",
   "execution_count": 163,
   "metadata": {},
   "outputs": [],
   "source": [
    "ccl_df = ccl[['Close']].copy()\n",
    "dal_df = dal[['Close']].copy()\n",
    "etsy_df = etsy[['Close']].copy()\n",
    "LB_df = LB[['Close']].copy()\n",
    "spy_df = spy[['Close']].copy()"
   ]
  },
  {
   "cell_type": "code",
   "execution_count": 164,
   "metadata": {},
   "outputs": [],
   "source": [
    "ccl_df.rename(columns = {'Close':'CCL'}, inplace = True) \n",
    "dal_df.rename(columns = {'Close':'DAL'}, inplace = True) \n",
    "etsy_df.rename(columns = {'Close':'ETSY'}, inplace = True) \n",
    "LB_df.rename(columns = {'Close':'LB'}, inplace = True) \n",
    "spy_df.rename(columns = {'Close':'SPY'}, inplace = True) \n",
    "#spy_df.head()"
   ]
  },
  {
   "cell_type": "code",
   "execution_count": 165,
   "metadata": {},
   "outputs": [
    {
     "data": {
      "text/html": [
       "<div>\n",
       "<style scoped>\n",
       "    .dataframe tbody tr th:only-of-type {\n",
       "        vertical-align: middle;\n",
       "    }\n",
       "\n",
       "    .dataframe tbody tr th {\n",
       "        vertical-align: top;\n",
       "    }\n",
       "\n",
       "    .dataframe thead th {\n",
       "        text-align: right;\n",
       "    }\n",
       "</style>\n",
       "<table border=\"1\" class=\"dataframe\">\n",
       "  <thead>\n",
       "    <tr style=\"text-align: right;\">\n",
       "      <th></th>\n",
       "      <th>CCL</th>\n",
       "      <th>DAL</th>\n",
       "      <th>ETSY</th>\n",
       "      <th>LB</th>\n",
       "      <th>SPY</th>\n",
       "    </tr>\n",
       "    <tr>\n",
       "      <th>Date</th>\n",
       "      <th></th>\n",
       "      <th></th>\n",
       "      <th></th>\n",
       "      <th></th>\n",
       "      <th></th>\n",
       "    </tr>\n",
       "  </thead>\n",
       "  <tbody>\n",
       "    <tr>\n",
       "      <th>2021-01-13</th>\n",
       "      <td>20.100000</td>\n",
       "      <td>40.450001</td>\n",
       "      <td>207.029999</td>\n",
       "      <td>46.160000</td>\n",
       "      <td>379.790009</td>\n",
       "    </tr>\n",
       "    <tr>\n",
       "      <th>2021-01-14</th>\n",
       "      <td>20.920000</td>\n",
       "      <td>41.470001</td>\n",
       "      <td>211.520004</td>\n",
       "      <td>44.980000</td>\n",
       "      <td>378.459991</td>\n",
       "    </tr>\n",
       "    <tr>\n",
       "      <th>2021-01-15</th>\n",
       "      <td>20.790001</td>\n",
       "      <td>39.980000</td>\n",
       "      <td>204.419998</td>\n",
       "      <td>45.200001</td>\n",
       "      <td>375.700012</td>\n",
       "    </tr>\n",
       "    <tr>\n",
       "      <th>2021-01-19</th>\n",
       "      <td>20.870001</td>\n",
       "      <td>40.310001</td>\n",
       "      <td>221.309998</td>\n",
       "      <td>45.730000</td>\n",
       "      <td>378.649994</td>\n",
       "    </tr>\n",
       "    <tr>\n",
       "      <th>2021-01-20</th>\n",
       "      <td>20.780001</td>\n",
       "      <td>41.619999</td>\n",
       "      <td>215.690002</td>\n",
       "      <td>45.560001</td>\n",
       "      <td>383.890015</td>\n",
       "    </tr>\n",
       "  </tbody>\n",
       "</table>\n",
       "</div>"
      ],
      "text/plain": [
       "                  CCL        DAL        ETSY         LB         SPY\n",
       "Date                                                               \n",
       "2021-01-13  20.100000  40.450001  207.029999  46.160000  379.790009\n",
       "2021-01-14  20.920000  41.470001  211.520004  44.980000  378.459991\n",
       "2021-01-15  20.790001  39.980000  204.419998  45.200001  375.700012\n",
       "2021-01-19  20.870001  40.310001  221.309998  45.730000  378.649994\n",
       "2021-01-20  20.780001  41.619999  215.690002  45.560001  383.890015"
      ]
     },
     "execution_count": 165,
     "metadata": {},
     "output_type": "execute_result"
    }
   ],
   "source": [
    "dfs = [ccl_df, dal_df, etsy_df, LB_df,spy_df ]\n",
    "df = pd.concat(dfs,axis=1,join=\"outer\",ignore_index=False)\n",
    "df.tail()"
   ]
  },
  {
   "cell_type": "code",
   "execution_count": 166,
   "metadata": {},
   "outputs": [
    {
     "data": {
      "text/html": [
       "<div>\n",
       "<style scoped>\n",
       "    .dataframe tbody tr th:only-of-type {\n",
       "        vertical-align: middle;\n",
       "    }\n",
       "\n",
       "    .dataframe tbody tr th {\n",
       "        vertical-align: top;\n",
       "    }\n",
       "\n",
       "    .dataframe thead th {\n",
       "        text-align: right;\n",
       "    }\n",
       "</style>\n",
       "<table border=\"1\" class=\"dataframe\">\n",
       "  <thead>\n",
       "    <tr style=\"text-align: right;\">\n",
       "      <th></th>\n",
       "      <th>CCL</th>\n",
       "      <th>DAL</th>\n",
       "      <th>ETSY</th>\n",
       "      <th>LB</th>\n",
       "      <th>SPY</th>\n",
       "    </tr>\n",
       "    <tr>\n",
       "      <th>Date</th>\n",
       "      <th></th>\n",
       "      <th></th>\n",
       "      <th></th>\n",
       "      <th></th>\n",
       "      <th></th>\n",
       "    </tr>\n",
       "  </thead>\n",
       "  <tbody>\n",
       "    <tr>\n",
       "      <th>2010-01-04</th>\n",
       "      <td>32.060001</td>\n",
       "      <td>11.22</td>\n",
       "      <td>NaN</td>\n",
       "      <td>19.309999</td>\n",
       "      <td>113.330002</td>\n",
       "    </tr>\n",
       "    <tr>\n",
       "      <th>2010-01-05</th>\n",
       "      <td>32.369999</td>\n",
       "      <td>12.10</td>\n",
       "      <td>NaN</td>\n",
       "      <td>18.680000</td>\n",
       "      <td>113.629997</td>\n",
       "    </tr>\n",
       "    <tr>\n",
       "      <th>2010-01-06</th>\n",
       "      <td>31.790001</td>\n",
       "      <td>12.11</td>\n",
       "      <td>NaN</td>\n",
       "      <td>19.070000</td>\n",
       "      <td>113.709999</td>\n",
       "    </tr>\n",
       "    <tr>\n",
       "      <th>2010-01-07</th>\n",
       "      <td>32.139999</td>\n",
       "      <td>12.69</td>\n",
       "      <td>NaN</td>\n",
       "      <td>18.760000</td>\n",
       "      <td>114.190002</td>\n",
       "    </tr>\n",
       "    <tr>\n",
       "      <th>2010-01-08</th>\n",
       "      <td>33.220001</td>\n",
       "      <td>12.47</td>\n",
       "      <td>NaN</td>\n",
       "      <td>19.590000</td>\n",
       "      <td>114.570000</td>\n",
       "    </tr>\n",
       "  </tbody>\n",
       "</table>\n",
       "</div>"
      ],
      "text/plain": [
       "                  CCL    DAL  ETSY         LB         SPY\n",
       "Date                                                     \n",
       "2010-01-04  32.060001  11.22   NaN  19.309999  113.330002\n",
       "2010-01-05  32.369999  12.10   NaN  18.680000  113.629997\n",
       "2010-01-06  31.790001  12.11   NaN  19.070000  113.709999\n",
       "2010-01-07  32.139999  12.69   NaN  18.760000  114.190002\n",
       "2010-01-08  33.220001  12.47   NaN  19.590000  114.570000"
      ]
     },
     "execution_count": 166,
     "metadata": {},
     "output_type": "execute_result"
    }
   ],
   "source": [
    "pre_covid_df = df.loc['2010-01-01':'2020-02-20']\n",
    "covid_df = df.loc['2020-02-21': '2021-01-20']\n",
    "pre_covid_df.head()"
   ]
  },
  {
   "cell_type": "markdown",
   "metadata": {},
   "source": [
    "### Creating the Features X and Target y Data\n",
    "\n",
    "The first step towards preparing the data is to create the input features vectors X and the target vector y. We will use the window_data() function to create these vectors.\n",
    "\n",
    "This function chunks the data up with a rolling window of Xt - window to predict Xt.\n",
    "\n",
    "The function returns two numpy arrays:\n",
    "\n",
    " - X: The input features vectors.\n",
    "\n",
    " - y: The target vector.\n",
    "\n",
    "The function has the following parameters:\n",
    "\n",
    " - df: The original DataFrame with the time series data.\n",
    "\n",
    " - window: The window size in days of previous closing prices that will be used for the prediction.\n",
    "\n",
    " - feature_col_number: The column number from the original DataFrame where the features are located.\n",
    "\n",
    " - target_col_number: The column number from the original DataFrame where the target is located."
   ]
  },
  {
   "cell_type": "code",
   "execution_count": 167,
   "metadata": {},
   "outputs": [],
   "source": [
    "#creating PRECOVID data function\n",
    "def window_data_precovid(pre_covid_df, window, feature_col_number, target_col_number):\n",
    "    \"\"\"\n",
    "    This function accepts the column number for the features (X) and the target (y).\n",
    "    It chunks the data up with a rolling window of Xt - window to predict Xt.\n",
    "    It returns two numpy arrays of X and y.\n",
    "    \"\"\"\n",
    "    X_precovid = []\n",
    "    y_precovid = []\n",
    "    for i in range(len(pre_covid_df) - window):\n",
    "        features = pre_covid_df.iloc[i : (i + window), feature_col_number]\n",
    "        target = pre_covid_df.iloc[(i + window), target_col_number]\n",
    "        X_precovid.append(features)\n",
    "        y_precovid.append(target)\n",
    "    return np.array(X_precovid), np.array(y_precovid).reshape(-1, 1)"
   ]
  },
  {
   "cell_type": "code",
   "execution_count": 168,
   "metadata": {},
   "outputs": [],
   "source": [
    "#creating COVID data function\n",
    "def window_data_covid(covid_df, window, feature_col_number, target_col_number):\n",
    "    \"\"\"\n",
    "    This function accepts the column number for the features (X) and the target (y).\n",
    "    It chunks the data up with a rolling window of Xt - window to predict Xt.\n",
    "    It returns two numpy arrays of X and y.\n",
    "    \"\"\"\n",
    "    X_covid = []\n",
    "    y_covid = []\n",
    "    for i in range(len(covid_df) - window):\n",
    "        features = covid_df.iloc[i : (i + window), feature_col_number]\n",
    "        target = covid_df.iloc[(i + window), target_col_number]\n",
    "        X_covid.append(features)\n",
    "        y_covid.append(target)\n",
    "    return np.array(X_covid), np.array(y_covid).reshape(-1, 1)"
   ]
  },
  {
   "cell_type": "markdown",
   "metadata": {},
   "source": [
    "We want to predict closing prices using a 5 days windows of previous closing prices, so that, we will create the X and y vectors by calling the window_data function and defining a window size of 5 and setting the features and target column numbers to (0, 1, 2, 3 )the respective column."
   ]
  },
  {
   "cell_type": "code",
   "execution_count": 195,
   "metadata": {},
   "outputs": [
    {
     "name": "stdout",
     "output_type": "stream",
     "text": [
      "X sample values:\n",
      "[[113.33000183 113.62999725 113.70999908 114.19000244 114.56999969]\n",
      " [113.62999725 113.70999908 114.19000244 114.56999969 114.73000336]\n",
      " [113.70999908 114.19000244 114.56999969 114.73000336 113.66000366]\n",
      " [114.19000244 114.56999969 114.73000336 113.66000366 114.62000275]\n",
      " [114.56999969 114.73000336 113.66000366 114.62000275 114.93000031]] \n",
      "\n",
      "y sample values:\n",
      "[[114.73000336]\n",
      " [113.66000366]\n",
      " [114.62000275]\n",
      " [114.93000031]\n",
      " [113.63999939]]\n"
     ]
    }
   ],
   "source": [
    "# Creating the features (X) and target (y) data using the window_data_precovid() function.\n",
    "# PRECOVID\n",
    "window_size = 5\n",
    "\n",
    "feature_column = 4\n",
    "target_column = 4\n",
    "X_precovid, y_precovid = window_data_precovid(pre_covid_df, window_size, feature_column, target_column)\n",
    "print (f\"X sample values:\\n{X_precovid[:5]} \\n\")\n",
    "print (f\"y sample values:\\n{y_precovid[:5]}\")"
   ]
  },
  {
   "cell_type": "code",
   "execution_count": 196,
   "metadata": {},
   "outputs": [
    {
     "name": "stdout",
     "output_type": "stream",
     "text": [
      "X sample values:\n",
      "[[333.48001099 322.42001343 312.6499939  311.5        297.51000977]\n",
      " [322.42001343 312.6499939  311.5        297.51000977 296.26000977]\n",
      " [312.6499939  311.5        297.51000977 296.26000977 309.08999634]\n",
      " [311.5        297.51000977 296.26000977 309.08999634 300.23999023]\n",
      " [297.51000977 296.26000977 309.08999634 300.23999023 312.85998535]] \n",
      "\n",
      "y sample values:\n",
      "[[296.26000977]\n",
      " [309.08999634]\n",
      " [300.23999023]\n",
      " [312.85998535]\n",
      " [302.45999146]]\n"
     ]
    }
   ],
   "source": [
    "# Creating the features (X) and target (y) data using the window_data_covid() function\n",
    "# COVID\n",
    "window_size = 5\n",
    "\n",
    "feature_column = 4\n",
    "target_column = 4\n",
    "X_covid, y_covid = window_data_covid(covid_df, window_size, feature_column, target_column)\n",
    "print (f\"X sample values:\\n{X_covid[:5]} \\n\")\n",
    "print (f\"y sample values:\\n{y_covid[:5]}\")"
   ]
  },
  {
   "cell_type": "code",
   "execution_count": 197,
   "metadata": {},
   "outputs": [
    {
     "name": "stdout",
     "output_type": "stream",
     "text": [
      "X sample values:\n",
      "[[113.33000183 113.62999725 113.70999908 114.19000244 114.56999969]\n",
      " [113.62999725 113.70999908 114.19000244 114.56999969 114.73000336]\n",
      " [113.70999908 114.19000244 114.56999969 114.73000336 113.66000366]\n",
      " [114.19000244 114.56999969 114.73000336 113.66000366 114.62000275]\n",
      " [114.56999969 114.73000336 113.66000366 114.62000275 114.93000031]] \n",
      "\n",
      "y sample values:\n",
      "[[114.73000336]\n",
      " [113.66000366]\n",
      " [114.62000275]\n",
      " [114.93000031]\n",
      " [113.63999939]]\n"
     ]
    }
   ],
   "source": [
    "# Creating the features (X) and target (y) data using the window_data_covid() function\n",
    "# Total_df\n",
    "window_size = 5\n",
    "\n",
    "feature_column = 4\n",
    "target_column = 4\n",
    "X_df, y_df = window_data_covid(df, window_size, feature_column, target_column)\n",
    "print (f\"X sample values:\\n{X_df[:5]} \\n\")\n",
    "print (f\"y sample values:\\n{y_df[:5]}\")"
   ]
  },
  {
   "cell_type": "markdown",
   "metadata": {},
   "source": [
    "### Splitting Data Between Training and Testing Sets\n",
    "To avoid the dataset being randomized, we will manually split the data using array slicing."
   ]
  },
  {
   "cell_type": "code",
   "execution_count": 198,
   "metadata": {},
   "outputs": [],
   "source": [
    "# Use 70% of the data for training and the remainder for testing PRECOVID\n",
    "split_precovid = int(0.7 * len(X_precovid))\n",
    "X_train_precovid = X_precovid[: split_precovid]\n",
    "X_test_precovid = X_precovid[split_precovid:]\n",
    "y_train_precovid = y_precovid[: split_precovid]\n",
    "y_test_precovid = y_precovid[split_precovid:]"
   ]
  },
  {
   "cell_type": "code",
   "execution_count": 199,
   "metadata": {},
   "outputs": [],
   "source": [
    "# Use 70% of the data for training and the remainder for testing COVID\n",
    "split_covid = int(0.7 * len(X_covid))\n",
    "X_train_covid = X_covid[: split_covid]\n",
    "X_test_covid = X_covid[split_covid:]\n",
    "y_train_covid = y_covid[: split_covid]\n",
    "y_test_covid = y_covid[split_covid:]"
   ]
  },
  {
   "cell_type": "code",
   "execution_count": 200,
   "metadata": {},
   "outputs": [],
   "source": [
    "# Use 70% of the data for training and the remainder for testing DF\n",
    "split_df = int(0.7 * len(X_df))\n",
    "X_train_df = X_df[: split_df]\n",
    "X_test_df = X_df[split_df:]\n",
    "y_train_df = y_df[: split_df]\n",
    "y_test_df = y_df[split_df:]"
   ]
  },
  {
   "cell_type": "markdown",
   "metadata": {},
   "source": [
    "### Scaling Data with MinMaxScaler\n",
    "Once the training and test datasets are created, we need to scale the data before training the LSTM model. We will use the MinMaxScaler from sklearn to scale all values between 0 and 1.\n",
    "\n",
    "Note that we scale both features and target sets."
   ]
  },
  {
   "cell_type": "code",
   "execution_count": 201,
   "metadata": {},
   "outputs": [],
   "source": [
    "# Use the MinMaxScaler to scale data between 0 and 1.\n",
    "#PRECOVID\n",
    "from sklearn.preprocessing import MinMaxScaler\n",
    "\n",
    "scaler_precovid = MinMaxScaler()\n",
    "scaler_precovid.fit(X_precovid)\n",
    "X_train_precovid = scaler_precovid.transform(X_train_precovid)\n",
    "X_test_precovid = scaler_precovid.transform(X_test_precovid)\n",
    "scaler_precovid.fit(y_precovid)\n",
    "y_train_precovid = scaler_precovid.transform(y_train_precovid)\n",
    "y_test_precovid = scaler_precovid.transform(y_test_precovid)"
   ]
  },
  {
   "cell_type": "code",
   "execution_count": 202,
   "metadata": {},
   "outputs": [],
   "source": [
    "# Use the MinMaxScaler to scale data between 0 and 1.\n",
    "#COVID\n",
    "scaler_covid = MinMaxScaler()\n",
    "scaler_covid.fit(X_covid)\n",
    "X_train_covid = scaler_covid.transform(X_train_covid)\n",
    "X_test_covid = scaler_covid.transform(X_test_covid)\n",
    "scaler_covid.fit(y_covid)\n",
    "y_train_covid = scaler_covid.transform(y_train_covid)\n",
    "y_test_covid = scaler_covid.transform(y_test_covid)\n",
    "X_covid_scaled = scaler_covid.transform(X_covid)"
   ]
  },
  {
   "cell_type": "code",
   "execution_count": 203,
   "metadata": {},
   "outputs": [],
   "source": [
    "# Use the MinMaxScaler to scale data between 0 and 1.\n",
    "# DF\n",
    "scaler_df = MinMaxScaler()\n",
    "scaler_df.fit(X_df)\n",
    "X_train_df = scaler_df.transform(X_train_df)\n",
    "X_test_df = scaler_df.transform(X_test_df)\n",
    "scaler_df.fit(y_df)\n",
    "y_train_df = scaler_df.transform(y_train_df)\n",
    "y_test_df = scaler_df.transform(y_test_df)\n",
    "X_covid_df = scaler_df.transform(X_df)"
   ]
  },
  {
   "cell_type": "markdown",
   "metadata": {},
   "source": [
    "### Reshape Features Data for the LSTM Model\n",
    "The LSTM API from Keras needs to receive the features data as a vertical vector, so that we need to reshape the X data in the form reshape((X_train.shape[0], X_train.shape[1], 1)).\n",
    "\n",
    "Both sets, training, and testing are reshaped."
   ]
  },
  {
   "cell_type": "code",
   "execution_count": 204,
   "metadata": {},
   "outputs": [
    {
     "name": "stdout",
     "output_type": "stream",
     "text": [
      "X_train sample values:\n",
      "[[[0.04731742]\n",
      "  [0.0485928 ]\n",
      "  [0.0488955 ]\n",
      "  [0.0509346 ]\n",
      "  [0.05238419]]\n",
      "\n",
      " [[0.0485928 ]\n",
      "  [0.04893292]\n",
      "  [0.0509346 ]\n",
      "  [0.05254886]\n",
      "  [0.05306177]]\n",
      "\n",
      " [[0.04893292]\n",
      "  [0.05097358]\n",
      "  [0.05254886]\n",
      "  [0.05322857]\n",
      "  [0.04853056]]\n",
      "\n",
      " [[0.05097358]\n",
      "  [0.05258907]\n",
      "  [0.05322857]\n",
      "  [0.04868312]\n",
      "  [0.05259594]]\n",
      "\n",
      " [[0.05258907]\n",
      "  [0.0532693 ]\n",
      "  [0.04868312]\n",
      "  [0.05276128]\n",
      "  [0.05390871]]] \n",
      "\n",
      "X_test sample values:\n",
      "[[[0.53282031]\n",
      "  [0.53320291]\n",
      "  [0.53343247]\n",
      "  [0.54010193]\n",
      "  [0.53667314]]\n",
      "\n",
      " [[0.53320291]\n",
      "  [0.53384065]\n",
      "  [0.54010193]\n",
      "  [0.5383602 ]\n",
      "  [0.53671553]]\n",
      "\n",
      " [[0.53384065]\n",
      "  [0.54051522]\n",
      "  [0.5383602 ]\n",
      "  [0.53840272]\n",
      "  [0.53798598]]\n",
      "\n",
      " [[0.54051522]\n",
      "  [0.53877216]\n",
      "  [0.53840272]\n",
      "  [0.53967716]\n",
      "  [0.54374528]]\n",
      "\n",
      " [[0.53877216]\n",
      "  [0.53881471]\n",
      "  [0.53967716]\n",
      "  [0.54545456]\n",
      "  [0.54759887]]]\n"
     ]
    }
   ],
   "source": [
    "# Reshape the features for the model\n",
    "#PRECOVID\n",
    "X_train_precovid = X_train_precovid.reshape((X_train_precovid.shape[0], X_train_precovid.shape[1], 1))\n",
    "X_test_precovid = X_test_precovid.reshape((X_test_precovid.shape[0], X_test_precovid.shape[1], 1))\n",
    "print (f\"X_train sample values:\\n{X_train_precovid[:5]} \\n\")\n",
    "print (f\"X_test sample values:\\n{X_test_precovid[:5]}\")"
   ]
  },
  {
   "cell_type": "code",
   "execution_count": 176,
   "metadata": {},
   "outputs": [
    {
     "name": "stdout",
     "output_type": "stream",
     "text": [
      "X_train sample values:\n",
      "[[[0.69818713]\n",
      "  [0.62832423]\n",
      "  [0.56660975]\n",
      "  [0.55934556]\n",
      "  [0.47097471]]\n",
      "\n",
      " [[0.62832423]\n",
      "  [0.56660975]\n",
      "  [0.55934556]\n",
      "  [0.47097471]\n",
      "  [0.46307881]]\n",
      "\n",
      " [[0.56660975]\n",
      "  [0.55934556]\n",
      "  [0.47097471]\n",
      "  [0.46307881]\n",
      "  [0.54412224]]\n",
      "\n",
      " [[0.55934556]\n",
      "  [0.47097471]\n",
      "  [0.46307881]\n",
      "  [0.54412224]\n",
      "  [0.48821923]]\n",
      "\n",
      " [[0.47097471]\n",
      "  [0.46307881]\n",
      "  [0.54412224]\n",
      "  [0.48821923]\n",
      "  [0.56793621]]] \n",
      "\n",
      "X_test sample values:\n",
      "[[[0.70734626]\n",
      "  [0.74417285]\n",
      "  [0.76324927]\n",
      "  [0.78264165]\n",
      "  [0.81788886]]\n",
      "\n",
      " [[0.74417285]\n",
      "  [0.76324927]\n",
      "  [0.78264165]\n",
      "  [0.81788886]\n",
      "  [0.80336048]]\n",
      "\n",
      " [[0.76324927]\n",
      "  [0.78264165]\n",
      "  [0.81788886]\n",
      "  [0.80336048]\n",
      "  [0.78946362]]\n",
      "\n",
      " [[0.78264165]\n",
      "  [0.81788886]\n",
      "  [0.80336048]\n",
      "  [0.78946362]\n",
      "  [0.78674748]]\n",
      "\n",
      " [[0.81788886]\n",
      "  [0.80336048]\n",
      "  [0.78946362]\n",
      "  [0.78674748]\n",
      "  [0.78542102]]]\n"
     ]
    }
   ],
   "source": [
    "# Reshape the features for the model\n",
    "# COVID\n",
    "X_train_covid = X_train_covid.reshape((X_train_covid.shape[0], X_train_covid.shape[1], 1))\n",
    "X_test_covid = X_test_covid.reshape((X_test_covid.shape[0], X_test_covid.shape[1], 1))\n",
    "print (f\"X_train sample values:\\n{X_train_covid[:5]} \\n\")\n",
    "print (f\"X_test sample values:\\n{X_test_covid[:5]}\")"
   ]
  },
  {
   "cell_type": "code",
   "execution_count": 205,
   "metadata": {},
   "outputs": [
    {
     "name": "stdout",
     "output_type": "stream",
     "text": [
      "X_train sample values:\n",
      "[[[0.03988391]\n",
      "  [0.04095893]\n",
      "  [0.04124562]\n",
      "  [0.04296569]\n",
      "  [0.04432739]]\n",
      "\n",
      " [[0.04095893]\n",
      "  [0.04124562]\n",
      "  [0.04296569]\n",
      "  [0.04432739]\n",
      "  [0.04490076]]\n",
      "\n",
      " [[0.04124562]\n",
      "  [0.04296569]\n",
      "  [0.04432739]\n",
      "  [0.04490076]\n",
      "  [0.04106646]]\n",
      "\n",
      " [[0.04296569]\n",
      "  [0.04432739]\n",
      "  [0.04490076]\n",
      "  [0.04106646]\n",
      "  [0.04450658]]\n",
      "\n",
      " [[0.04432739]\n",
      "  [0.04490076]\n",
      "  [0.04106646]\n",
      "  [0.04450658]\n",
      "  [0.04561744]]] \n",
      "\n",
      "X_test sample values:\n",
      "[[[0.52744928]\n",
      "  [0.52762846]\n",
      "  [0.52580086]\n",
      "  [0.52633842]\n",
      "  [0.52981437]]\n",
      "\n",
      " [[0.52762846]\n",
      "  [0.52580086]\n",
      "  [0.52633842]\n",
      "  [0.52981437]\n",
      "  [0.53088942]]\n",
      "\n",
      " [[0.52580086]\n",
      "  [0.52633842]\n",
      "  [0.52981437]\n",
      "  [0.53088942]\n",
      "  [0.53404283]]\n",
      "\n",
      " [[0.52633842]\n",
      "  [0.52981437]\n",
      "  [0.53088942]\n",
      "  [0.53404283]\n",
      "  [0.53794884]]\n",
      "\n",
      " [[0.52981437]\n",
      "  [0.53088942]\n",
      "  [0.53404283]\n",
      "  [0.53794884]\n",
      "  [0.53988388]]]\n"
     ]
    }
   ],
   "source": [
    "# Reshape the features for the model\n",
    "# COVID\n",
    "X_train_df = X_train_df.reshape((X_train_df.shape[0], X_train_df.shape[1], 1))\n",
    "X_test_df = X_test_df.reshape((X_test_df.shape[0], X_test_df.shape[1], 1))\n",
    "print (f\"X_train sample values:\\n{X_train_df[:5]} \\n\")\n",
    "print (f\"X_test sample values:\\n{X_test_df[:5]}\")"
   ]
  },
  {
   "cell_type": "markdown",
   "metadata": {},
   "source": [
    "### Build and Train the LSTM RNN\n",
    "In this section, we will design a custom LSTM RNN in Keras and fit (train) it using the training data we defined.\n",
    "\n",
    "We will need to:\n",
    "\n",
    " 1. Define the model architecture in Keras.\n",
    "\n",
    " 2. Compile the model.\n",
    "\n",
    " 3. Fit the model to the training data.\n",
    "\n",
    "#### Importing the Keras Modules\n",
    "The LSTM RNN model in Keras uses the Sequential model and the LSTM layer as we did before. However, there is a new type of layer called Dropout.\n",
    "\n",
    " - Dropout: Dropout is a regularization technique for reducing overfitting in neural networks. This type of layer applies the dropout technique to the input."
   ]
  },
  {
   "cell_type": "code",
   "execution_count": 206,
   "metadata": {},
   "outputs": [],
   "source": [
    "# Import required Keras modules\n",
    "from tensorflow.keras.models import Sequential\n",
    "from tensorflow.keras.layers import LSTM, Dense, Dropout"
   ]
  },
  {
   "cell_type": "markdown",
   "metadata": {},
   "source": [
    "### Defining the LSTM RNN Model Structure\n",
    "To create an LSTM RNN model, we will add LSTM layers. The return_sequences parameter needs to set to True every time we add a new LSTM layer, excluding the final layer. The input_shape is the number of time steps and the number of indicators\n",
    "\n",
    "After each LSTM layer, we add a Dropout layer to prevent overfitting. The parameter passed to the Dropout layer is the fraction of nodes that will be drop on each epoch, for this demo, we will use a dropout value of 0.2, it means that on each epoch we will randomly drop 20% of the units.\n",
    "\n",
    "The number of units in each LSTM layers, is equal to the size of the time window, in this demo, we are taking five previous  closing prices to predict the next closing price."
   ]
  },
  {
   "cell_type": "code",
   "execution_count": 207,
   "metadata": {},
   "outputs": [],
   "source": [
    "# Define the LSTM RNN model.\n",
    "#PRECOVID\n",
    "model_precovid = Sequential()\n",
    "\n",
    "number_units = 5\n",
    "dropout_fraction = 0.2\n",
    "\n",
    "# Layer 1\n",
    "model_precovid.add(LSTM(\n",
    "    units=number_units,\n",
    "    return_sequences=True,\n",
    "    input_shape=(X_train_precovid.shape[1], 1))\n",
    "    )\n",
    "model_precovid.add(Dropout(dropout_fraction))\n",
    "# Layer 2\n",
    "model_precovid.add(LSTM(units=number_units, return_sequences=True))\n",
    "model_precovid.add(Dropout(dropout_fraction))\n",
    "# Layer 3\n",
    "model_precovid.add(LSTM(units=number_units))#, return_sequences=True))\n",
    "model_precovid.add(Dropout(dropout_fraction))\n",
    "\n",
    "# Layer 4\n",
    "#model.add(LSTM(units=number_units))\n",
    "#model.add(Dropout(dropout_fraction))\n",
    "\n",
    "\n",
    "\n",
    "\n",
    "\n",
    "# Output layer\n",
    "model_precovid.add(Dense(1))"
   ]
  },
  {
   "cell_type": "code",
   "execution_count": 179,
   "metadata": {},
   "outputs": [],
   "source": [
    "# Define the LSTM RNN model.\n",
    "#PRECOVID\n",
    "model_covid = Sequential()\n",
    "\n",
    "number_units = 5\n",
    "dropout_fraction = 0.2\n",
    "\n",
    "# Layer 1\n",
    "model_covid.add(LSTM(\n",
    "    units=number_units,\n",
    "    return_sequences=True,\n",
    "    input_shape=(X_train_covid.shape[1], 1))\n",
    "    )\n",
    "model_covid.add(Dropout(dropout_fraction))\n",
    "# Layer 2\n",
    "model_covid.add(LSTM(units=number_units, return_sequences=True))\n",
    "model_covid.add(Dropout(dropout_fraction))\n",
    "# Layer 3\n",
    "model_covid.add(LSTM(units=number_units))#, return_sequences=True))\n",
    "model_covid.add(Dropout(dropout_fraction))\n",
    "\n",
    "# Layer 4\n",
    "#model.add(LSTM(units=number_units))\n",
    "#model.add(Dropout(dropout_fraction))\n",
    "\n",
    "\n",
    "\n",
    "\n",
    "\n",
    "# Output layer\n",
    "model_covid.add(Dense(1))"
   ]
  },
  {
   "cell_type": "code",
   "execution_count": 211,
   "metadata": {},
   "outputs": [],
   "source": [
    "# Define the LSTM RNN model.\n",
    "# DF\n",
    "model_df = Sequential()\n",
    "\n",
    "number_units = 5\n",
    "dropout_fraction = 0.2\n",
    "\n",
    "# Layer 1\n",
    "model_df.add(LSTM(\n",
    "    units=number_units,\n",
    "    return_sequences=True,\n",
    "    input_shape=(X_train_df.shape[1], 1))\n",
    "    )\n",
    "model_df.add(Dropout(dropout_fraction))\n",
    "# Layer 2\n",
    "model_df.add(LSTM(units=number_units, return_sequences=True))\n",
    "model_df.add(Dropout(dropout_fraction))\n",
    "# Layer 3\n",
    "model_df.add(LSTM(units=number_units))#, return_sequences=True))\n",
    "model_df.add(Dropout(dropout_fraction))\n",
    "\n",
    "# Layer 4\n",
    "#model.add(LSTM(units=number_units))\n",
    "#model.add(Dropout(dropout_fraction))\n",
    "\n",
    "\n",
    "\n",
    "\n",
    "\n",
    "# Output layer\n",
    "model_df.add(Dense(1))"
   ]
  },
  {
   "cell_type": "markdown",
   "metadata": {},
   "source": [
    "### Compiling the LSTM RNN Model\n",
    "We will compile the model, using the adam optimizer, as loss function, we will use mean_square_error since the value we want to predict is continuous."
   ]
  },
  {
   "cell_type": "code",
   "execution_count": 209,
   "metadata": {},
   "outputs": [
    {
     "name": "stdout",
     "output_type": "stream",
     "text": [
      "Model: \"sequential_14\"\n",
      "_________________________________________________________________\n",
      "Layer (type)                 Output Shape              Param #   \n",
      "=================================================================\n",
      "lstm_42 (LSTM)               (None, 5, 5)              140       \n",
      "_________________________________________________________________\n",
      "dropout_42 (Dropout)         (None, 5, 5)              0         \n",
      "_________________________________________________________________\n",
      "lstm_43 (LSTM)               (None, 5, 5)              220       \n",
      "_________________________________________________________________\n",
      "dropout_43 (Dropout)         (None, 5, 5)              0         \n",
      "_________________________________________________________________\n",
      "lstm_44 (LSTM)               (None, 5)                 220       \n",
      "_________________________________________________________________\n",
      "dropout_44 (Dropout)         (None, 5)                 0         \n",
      "_________________________________________________________________\n",
      "dense_14 (Dense)             (None, 1)                 6         \n",
      "=================================================================\n",
      "Total params: 586\n",
      "Trainable params: 586\n",
      "Non-trainable params: 0\n",
      "_________________________________________________________________\n"
     ]
    }
   ],
   "source": [
    "# Compile the model\n",
    "#PRECOVID\n",
    "model_precovid.compile(optimizer=\"adam\", loss=\"mean_squared_error\")\n",
    "# Summarize the model\n",
    "model_precovid.summary()"
   ]
  },
  {
   "cell_type": "code",
   "execution_count": 210,
   "metadata": {},
   "outputs": [
    {
     "name": "stdout",
     "output_type": "stream",
     "text": [
      "Model: \"sequential_12\"\n",
      "_________________________________________________________________\n",
      "Layer (type)                 Output Shape              Param #   \n",
      "=================================================================\n",
      "lstm_36 (LSTM)               (None, 5, 5)              140       \n",
      "_________________________________________________________________\n",
      "dropout_36 (Dropout)         (None, 5, 5)              0         \n",
      "_________________________________________________________________\n",
      "lstm_37 (LSTM)               (None, 5, 5)              220       \n",
      "_________________________________________________________________\n",
      "dropout_37 (Dropout)         (None, 5, 5)              0         \n",
      "_________________________________________________________________\n",
      "lstm_38 (LSTM)               (None, 5)                 220       \n",
      "_________________________________________________________________\n",
      "dropout_38 (Dropout)         (None, 5)                 0         \n",
      "_________________________________________________________________\n",
      "dense_12 (Dense)             (None, 1)                 6         \n",
      "=================================================================\n",
      "Total params: 586\n",
      "Trainable params: 586\n",
      "Non-trainable params: 0\n",
      "_________________________________________________________________\n"
     ]
    }
   ],
   "source": [
    "# Compile the model\n",
    "#COVID\n",
    "model_covid.compile(optimizer=\"adam\", loss=\"mean_squared_error\")\n",
    "# Summarize the model\n",
    "# COVID\n",
    "model_covid.summary()"
   ]
  },
  {
   "cell_type": "code",
   "execution_count": 212,
   "metadata": {},
   "outputs": [
    {
     "name": "stdout",
     "output_type": "stream",
     "text": [
      "Model: \"sequential_15\"\n",
      "_________________________________________________________________\n",
      "Layer (type)                 Output Shape              Param #   \n",
      "=================================================================\n",
      "lstm_45 (LSTM)               (None, 5, 5)              140       \n",
      "_________________________________________________________________\n",
      "dropout_45 (Dropout)         (None, 5, 5)              0         \n",
      "_________________________________________________________________\n",
      "lstm_46 (LSTM)               (None, 5, 5)              220       \n",
      "_________________________________________________________________\n",
      "dropout_46 (Dropout)         (None, 5, 5)              0         \n",
      "_________________________________________________________________\n",
      "lstm_47 (LSTM)               (None, 5)                 220       \n",
      "_________________________________________________________________\n",
      "dropout_47 (Dropout)         (None, 5)                 0         \n",
      "_________________________________________________________________\n",
      "dense_15 (Dense)             (None, 1)                 6         \n",
      "=================================================================\n",
      "Total params: 586\n",
      "Trainable params: 586\n",
      "Non-trainable params: 0\n",
      "_________________________________________________________________\n"
     ]
    }
   ],
   "source": [
    "# Compile the model\n",
    "#COVID\n",
    "model_df.compile(optimizer=\"adam\", loss=\"mean_squared_error\")\n",
    "# Summarize the model\n",
    "# COVID\n",
    "model_df.summary()"
   ]
  },
  {
   "cell_type": "markdown",
   "metadata": {},
   "source": [
    "### Training the Model\n",
    "Once the model is defined, we train (fit) the model using 10 epochs. Since we are working with time-series data, it's important to set shuffle=False since it's necessary to keep the sequential order of the data.\n",
    "\n",
    "We can experiment with the batch_size parameter; however, smaller batch size is recommended; in this demo, we will use a batch_size=1."
   ]
  },
  {
   "cell_type": "code",
   "execution_count": 182,
   "metadata": {},
   "outputs": [
    {
     "name": "stdout",
     "output_type": "stream",
     "text": [
      "Epoch 1/10\n",
      "119/119 [==============================] - 12s 16ms/step - loss: 0.0031\n",
      "Epoch 2/10\n",
      "119/119 [==============================] - 1s 11ms/step - loss: 0.0615\n",
      "Epoch 3/10\n",
      "119/119 [==============================] - 1s 10ms/step - loss: 0.0491\n",
      "Epoch 4/10\n",
      "119/119 [==============================] - 2s 13ms/step - loss: 0.0305\n",
      "Epoch 5/10\n",
      "119/119 [==============================] - 2s 16ms/step - loss: 0.0121\n",
      "Epoch 6/10\n",
      "119/119 [==============================] - 2s 18ms/step - loss: 0.0047\n",
      "Epoch 7/10\n",
      "119/119 [==============================] - 2s 17ms/step - loss: 0.0024\n",
      "Epoch 8/10\n",
      "119/119 [==============================] - 2s 19ms/step - loss: 0.0023\n",
      "Epoch 9/10\n",
      "119/119 [==============================] - 2s 14ms/step - loss: 0.0019\n",
      "Epoch 10/10\n",
      "119/119 [==============================] - 2s 15ms/step - loss: 0.0023\n"
     ]
    },
    {
     "data": {
      "text/plain": [
       "<tensorflow.python.keras.callbacks.History at 0x7fc55c73b0d0>"
      ]
     },
     "execution_count": 182,
     "metadata": {},
     "output_type": "execute_result"
    }
   ],
   "source": [
    "# Train the model\n",
    "#PRECOVID\n",
    "model_precovid.fit(X_train_precovid, y_train_precovid, epochs=10, shuffle=False, batch_size=15, verbose=1)"
   ]
  },
  {
   "cell_type": "code",
   "execution_count": 183,
   "metadata": {},
   "outputs": [
    {
     "name": "stdout",
     "output_type": "stream",
     "text": [
      "Epoch 1/10\n",
      "11/11 [==============================] - 8s 18ms/step - loss: 0.1848\n",
      "Epoch 2/10\n",
      "11/11 [==============================] - 0s 21ms/step - loss: 0.1583\n",
      "Epoch 3/10\n",
      "11/11 [==============================] - 0s 20ms/step - loss: 0.1334\n",
      "Epoch 4/10\n",
      "11/11 [==============================] - 0s 14ms/step - loss: 0.1052\n",
      "Epoch 5/10\n",
      "11/11 [==============================] - 0s 11ms/step - loss: 0.0735\n",
      "Epoch 6/10\n",
      "11/11 [==============================] - 0s 12ms/step - loss: 0.0528\n",
      "Epoch 7/10\n",
      "11/11 [==============================] - 0s 14ms/step - loss: 0.0345\n",
      "Epoch 8/10\n",
      "11/11 [==============================] - 0s 11ms/step - loss: 0.0328\n",
      "Epoch 9/10\n",
      "11/11 [==============================] - 0s 10ms/step - loss: 0.0366\n",
      "Epoch 10/10\n",
      "11/11 [==============================] - 0s 10ms/step - loss: 0.0469\n"
     ]
    },
    {
     "data": {
      "text/plain": [
       "<tensorflow.python.keras.callbacks.History at 0x7fc53ea60190>"
      ]
     },
     "execution_count": 183,
     "metadata": {},
     "output_type": "execute_result"
    }
   ],
   "source": [
    "# Train the model\n",
    "#COVID\n",
    "model_covid.fit(X_train_covid, y_train_covid, epochs=10, shuffle=False, batch_size=15, verbose=1)"
   ]
  },
  {
   "cell_type": "code",
   "execution_count": 213,
   "metadata": {},
   "outputs": [
    {
     "name": "stdout",
     "output_type": "stream",
     "text": [
      "Epoch 1/10\n",
      "130/130 [==============================] - 8s 11ms/step - loss: 0.0025\n",
      "Epoch 2/10\n",
      "130/130 [==============================] - 1s 10ms/step - loss: 0.0457\n",
      "Epoch 3/10\n",
      "130/130 [==============================] - 1s 10ms/step - loss: 0.0296\n",
      "Epoch 4/10\n",
      "130/130 [==============================] - 1s 11ms/step - loss: 0.0134\n",
      "Epoch 5/10\n",
      "130/130 [==============================] - 2s 15ms/step - loss: 0.0053\n",
      "Epoch 6/10\n",
      "130/130 [==============================] - 2s 13ms/step - loss: 0.0029\n",
      "Epoch 7/10\n",
      "130/130 [==============================] - 2s 13ms/step - loss: 0.0025\n",
      "Epoch 8/10\n",
      "130/130 [==============================] - 2s 12ms/step - loss: 0.0021\n",
      "Epoch 9/10\n",
      "130/130 [==============================] - 2s 13ms/step - loss: 0.0025\n",
      "Epoch 10/10\n",
      "130/130 [==============================] - 2s 12ms/step - loss: 0.0030\n"
     ]
    },
    {
     "data": {
      "text/plain": [
       "<tensorflow.python.keras.callbacks.History at 0x7fc5472b7340>"
      ]
     },
     "execution_count": 213,
     "metadata": {},
     "output_type": "execute_result"
    }
   ],
   "source": [
    "# Train the model\n",
    "# DF\n",
    "model_df.fit(X_train_df, y_train_df, epochs=10, shuffle=False, batch_size=15, verbose=1)"
   ]
  },
  {
   "cell_type": "markdown",
   "metadata": {},
   "source": [
    "### Model Performance\n",
    "In this section, we will evaluate the model using the test data.\n",
    "\n",
    "We will need to:\n",
    "\n",
    " 1. Evaluate the model using the X_test and y_test data.\n",
    "\n",
    " 2. Use the X_test data to make predictions.\n",
    "\n",
    " 3. Create a DataFrame of real (y_test) vs predicted values.\n",
    "\n",
    " 4. Plot the Real vs predicted values as a line chart.\n",
    "\n",
    "### Evaluate the Model\n",
    "It's time to evaluate our model to assess its performance. We will use the evaluate method using the testing data."
   ]
  },
  {
   "cell_type": "code",
   "execution_count": 184,
   "metadata": {},
   "outputs": [
    {
     "name": "stdout",
     "output_type": "stream",
     "text": [
      "24/24 [==============================] - 2s 5ms/step - loss: 0.0194\n"
     ]
    },
    {
     "data": {
      "text/plain": [
       "0.0194220170378685"
      ]
     },
     "execution_count": 184,
     "metadata": {},
     "output_type": "execute_result"
    }
   ],
   "source": [
    "# Evaluate the model\n",
    "#PRECOVID\n",
    "model_precovid.evaluate(X_test_precovid, y_test_precovid)"
   ]
  },
  {
   "cell_type": "code",
   "execution_count": 185,
   "metadata": {},
   "outputs": [],
   "source": [
    "# Evaluate the model\n",
    "#COVID\n",
    "model_covid.evaluate(X_test_covid, y_test_covid)"
   ]
  },
  {
   "cell_type": "code",
   "execution_count": 214,
   "metadata": {},
   "outputs": [
    {
     "name": "stdout",
     "output_type": "stream",
     "text": [
      "27/27 [==============================] - 1s 4ms/step - loss: 0.0154\n"
     ]
    },
    {
     "data": {
      "text/plain": [
       "0.015363856218755245"
      ]
     },
     "execution_count": 214,
     "metadata": {},
     "output_type": "execute_result"
    }
   ],
   "source": [
    "# Evaluate the model\n",
    "# DF\n",
    "model_df.evaluate(X_test_df, y_test_df)"
   ]
  },
  {
   "cell_type": "markdown",
   "metadata": {},
   "source": [
    "### Making Predictions\n",
    "We will make some closing price predictions using our brand new LSTM RNN model and our testing data."
   ]
  },
  {
   "cell_type": "code",
   "execution_count": 186,
   "metadata": {},
   "outputs": [],
   "source": [
    "# Make some predictions\n",
    "#PRECOVID\n",
    "predicted_precovid = model_precovid.predict(X_test_precovid)"
   ]
  },
  {
   "cell_type": "code",
   "execution_count": 187,
   "metadata": {},
   "outputs": [],
   "source": [
    "# Make some predictions\n",
    "#COVID\n",
    "predicted_covid = model_covid.predict(X_test_covid)"
   ]
  },
  {
   "cell_type": "code",
   "execution_count": 215,
   "metadata": {},
   "outputs": [],
   "source": [
    "# Make some predictions\n",
    "#COVID\n",
    "predicted_df = model_df.predict(X_test_df)"
   ]
  },
  {
   "cell_type": "markdown",
   "metadata": {},
   "source": [
    "Since we scaled the original values using the MinMaxScaler, we need to recover the original prices to better understand the predictions.\n",
    "\n",
    "We will use the inverse_transform() method of the scaler to decode the scaled values to their original scale."
   ]
  },
  {
   "cell_type": "code",
   "execution_count": 188,
   "metadata": {},
   "outputs": [],
   "source": [
    "# Recover the original prices instead of the scaled version\n",
    "# PRECOVID\n",
    "predicted_prices_precovid = scaler_precovid.inverse_transform(predicted_precovid)\n",
    "real_prices_precovid = scaler_precovid.inverse_transform(y_test_precovid.reshape(-1, 1))"
   ]
  },
  {
   "cell_type": "code",
   "execution_count": 189,
   "metadata": {},
   "outputs": [],
   "source": [
    "# Recover the original prices instead of the scaled version\n",
    "# COVID\n",
    "predicted_prices_covid = scaler_covid.inverse_transform(predicted_covid)\n",
    "real_prices_covid = scaler_covid.inverse_transform(y_test_covid.reshape(-1, 1))"
   ]
  },
  {
   "cell_type": "code",
   "execution_count": 216,
   "metadata": {},
   "outputs": [],
   "source": [
    "# Recover the original prices instead of the scaled version\n",
    "# DF\n",
    "predicted_prices_df = scaler_df.inverse_transform(predicted_df)\n",
    "real_prices_df = scaler_df.inverse_transform(y_test_df.reshape(-1, 1))"
   ]
  },
  {
   "cell_type": "markdown",
   "metadata": {},
   "source": [
    "### Plotting Predicted Vs. Real Prices\n",
    "To plot the predicted vs. the real values, we will create a DataFrame."
   ]
  },
  {
   "cell_type": "code",
   "execution_count": 217,
   "metadata": {},
   "outputs": [
    {
     "data": {
      "text/html": [
       "<div>\n",
       "<style scoped>\n",
       "    .dataframe tbody tr th:only-of-type {\n",
       "        vertical-align: middle;\n",
       "    }\n",
       "\n",
       "    .dataframe tbody tr th {\n",
       "        vertical-align: top;\n",
       "    }\n",
       "\n",
       "    .dataframe thead th {\n",
       "        text-align: right;\n",
       "    }\n",
       "</style>\n",
       "<table border=\"1\" class=\"dataframe\">\n",
       "  <thead>\n",
       "    <tr style=\"text-align: right;\">\n",
       "      <th></th>\n",
       "      <th>Real</th>\n",
       "      <th>Predicted</th>\n",
       "    </tr>\n",
       "    <tr>\n",
       "      <th>Date</th>\n",
       "      <th></th>\n",
       "      <th></th>\n",
       "    </tr>\n",
       "  </thead>\n",
       "  <tbody>\n",
       "    <tr>\n",
       "      <th>2017-02-07</th>\n",
       "      <td>228.940002</td>\n",
       "      <td>221.883728</td>\n",
       "    </tr>\n",
       "    <tr>\n",
       "      <th>2017-02-08</th>\n",
       "      <td>229.240005</td>\n",
       "      <td>222.110901</td>\n",
       "    </tr>\n",
       "    <tr>\n",
       "      <th>2017-02-09</th>\n",
       "      <td>230.600006</td>\n",
       "      <td>222.416000</td>\n",
       "    </tr>\n",
       "    <tr>\n",
       "      <th>2017-02-10</th>\n",
       "      <td>231.509995</td>\n",
       "      <td>222.807266</td>\n",
       "    </tr>\n",
       "    <tr>\n",
       "      <th>2017-02-13</th>\n",
       "      <td>232.770004</td>\n",
       "      <td>222.848679</td>\n",
       "    </tr>\n",
       "  </tbody>\n",
       "</table>\n",
       "</div>"
      ],
      "text/plain": [
       "                  Real   Predicted\n",
       "Date                              \n",
       "2017-02-07  228.940002  221.883728\n",
       "2017-02-08  229.240005  222.110901\n",
       "2017-02-09  230.600006  222.416000\n",
       "2017-02-10  231.509995  222.807266\n",
       "2017-02-13  232.770004  222.848679"
      ]
     },
     "execution_count": 217,
     "metadata": {},
     "output_type": "execute_result"
    }
   ],
   "source": [
    "# Create a DataFrame of Real and Predicted values\n",
    "stocks_precovid = pd.DataFrame({\n",
    "    \"Real\": real_prices_precovid.ravel(),\n",
    "    \"Predicted\": predicted_prices_precovid.ravel()\n",
    "    }, index = pre_covid_df.index[-len(real_prices_precovid): ])\n",
    "stocks_precovid.head()"
   ]
  },
  {
   "cell_type": "code",
   "execution_count": 218,
   "metadata": {},
   "outputs": [
    {
     "data": {
      "text/html": [
       "<div>\n",
       "<style scoped>\n",
       "    .dataframe tbody tr th:only-of-type {\n",
       "        vertical-align: middle;\n",
       "    }\n",
       "\n",
       "    .dataframe tbody tr th {\n",
       "        vertical-align: top;\n",
       "    }\n",
       "\n",
       "    .dataframe thead th {\n",
       "        text-align: right;\n",
       "    }\n",
       "</style>\n",
       "<table border=\"1\" class=\"dataframe\">\n",
       "  <thead>\n",
       "    <tr style=\"text-align: right;\">\n",
       "      <th></th>\n",
       "      <th>Real</th>\n",
       "      <th>Predicted</th>\n",
       "    </tr>\n",
       "    <tr>\n",
       "      <th>Date</th>\n",
       "      <th></th>\n",
       "      <th></th>\n",
       "    </tr>\n",
       "  </thead>\n",
       "  <tbody>\n",
       "    <tr>\n",
       "      <th>2021-01-13</th>\n",
       "      <td>379.790009</td>\n",
       "      <td>327.134003</td>\n",
       "    </tr>\n",
       "    <tr>\n",
       "      <th>2021-01-14</th>\n",
       "      <td>378.459991</td>\n",
       "      <td>327.602325</td>\n",
       "    </tr>\n",
       "    <tr>\n",
       "      <th>2021-01-15</th>\n",
       "      <td>375.700012</td>\n",
       "      <td>327.631287</td>\n",
       "    </tr>\n",
       "    <tr>\n",
       "      <th>2021-01-19</th>\n",
       "      <td>378.649994</td>\n",
       "      <td>327.418518</td>\n",
       "    </tr>\n",
       "    <tr>\n",
       "      <th>2021-01-20</th>\n",
       "      <td>383.890015</td>\n",
       "      <td>327.399414</td>\n",
       "    </tr>\n",
       "  </tbody>\n",
       "</table>\n",
       "</div>"
      ],
      "text/plain": [
       "                  Real   Predicted\n",
       "Date                              \n",
       "2021-01-13  379.790009  327.134003\n",
       "2021-01-14  378.459991  327.602325\n",
       "2021-01-15  375.700012  327.631287\n",
       "2021-01-19  378.649994  327.418518\n",
       "2021-01-20  383.890015  327.399414"
      ]
     },
     "execution_count": 218,
     "metadata": {},
     "output_type": "execute_result"
    }
   ],
   "source": [
    "# Create a DataFrame of Real and Predicted values\n",
    "stocks_covid = pd.DataFrame({\n",
    "    \"Real\": real_prices_covid.ravel(),\n",
    "    \"Predicted\": predicted_prices_covid.ravel()\n",
    "    }, index = covid_df.index[-len(real_prices_covid): ])\n",
    "stocks_covid.tail()"
   ]
  },
  {
   "cell_type": "code",
   "execution_count": 219,
   "metadata": {},
   "outputs": [
    {
     "data": {
      "text/html": [
       "<div>\n",
       "<style scoped>\n",
       "    .dataframe tbody tr th:only-of-type {\n",
       "        vertical-align: middle;\n",
       "    }\n",
       "\n",
       "    .dataframe tbody tr th {\n",
       "        vertical-align: top;\n",
       "    }\n",
       "\n",
       "    .dataframe thead th {\n",
       "        text-align: right;\n",
       "    }\n",
       "</style>\n",
       "<table border=\"1\" class=\"dataframe\">\n",
       "  <thead>\n",
       "    <tr style=\"text-align: right;\">\n",
       "      <th></th>\n",
       "      <th>Real</th>\n",
       "      <th>Predicted</th>\n",
       "    </tr>\n",
       "    <tr>\n",
       "      <th>Date</th>\n",
       "      <th></th>\n",
       "      <th></th>\n",
       "    </tr>\n",
       "  </thead>\n",
       "  <tbody>\n",
       "    <tr>\n",
       "      <th>2021-01-13</th>\n",
       "      <td>379.790009</td>\n",
       "      <td>327.134003</td>\n",
       "    </tr>\n",
       "    <tr>\n",
       "      <th>2021-01-14</th>\n",
       "      <td>378.459991</td>\n",
       "      <td>327.602325</td>\n",
       "    </tr>\n",
       "    <tr>\n",
       "      <th>2021-01-15</th>\n",
       "      <td>375.700012</td>\n",
       "      <td>327.631287</td>\n",
       "    </tr>\n",
       "    <tr>\n",
       "      <th>2021-01-19</th>\n",
       "      <td>378.649994</td>\n",
       "      <td>327.418518</td>\n",
       "    </tr>\n",
       "    <tr>\n",
       "      <th>2021-01-20</th>\n",
       "      <td>383.890015</td>\n",
       "      <td>327.399414</td>\n",
       "    </tr>\n",
       "  </tbody>\n",
       "</table>\n",
       "</div>"
      ],
      "text/plain": [
       "                  Real   Predicted\n",
       "Date                              \n",
       "2021-01-13  379.790009  327.134003\n",
       "2021-01-14  378.459991  327.602325\n",
       "2021-01-15  375.700012  327.631287\n",
       "2021-01-19  378.649994  327.418518\n",
       "2021-01-20  383.890015  327.399414"
      ]
     },
     "execution_count": 219,
     "metadata": {},
     "output_type": "execute_result"
    }
   ],
   "source": [
    "# Create a DataFrame of Real and Predicted values\n",
    "stocks_df = pd.DataFrame({\n",
    "    \"Real\": real_prices_df.ravel(),\n",
    "    \"Predicted\": predicted_prices_df.ravel()\n",
    "    }, index = df.index[-len(real_prices_df): ])\n",
    "stocks_covid.tail()"
   ]
  },
  {
   "cell_type": "code",
   "execution_count": 192,
   "metadata": {},
   "outputs": [
    {
     "data": {
      "text/plain": [
       "<AxesSubplot:title={'center':'Pre_Covid'}, xlabel='Date'>"
      ]
     },
     "execution_count": 192,
     "metadata": {},
     "output_type": "execute_result"
    },
    {
     "data": {
      "image/png": "[encoded data removed]",
      "text/plain": [
       "<Figure size 432x288 with 1 Axes>"
      ]
     },
     "metadata": {
      "needs_background": "light"
     },
     "output_type": "display_data"
    }
   ],
   "source": [
    "# Plot the real vs predicted prices as a line chart\n",
    "#PRECOVID\n",
    "stocks_precovid.plot(title = 'Pre_Covid')"
   ]
  },
  {
   "cell_type": "code",
   "execution_count": 193,
   "metadata": {},
   "outputs": [
    {
     "data": {
      "text/plain": [
       "<AxesSubplot:title={'center':'Covid'}, xlabel='Date'>"
      ]
     },
     "execution_count": 193,
     "metadata": {},
     "output_type": "execute_result"
    },
    {
     "data": {
      "image/png": "[encoded data removed]",
      "text/plain": [
       "<Figure size 432x288 with 1 Axes>"
      ]
     },
     "metadata": {
      "needs_background": "light"
     },
     "output_type": "display_data"
    }
   ],
   "source": [
    "# Plot the real vs predicted prices as a line chart\n",
    "#COVID\n",
    "stocks_covid.plot(title = 'Covid')"
   ]
  },
  {
   "cell_type": "code",
   "execution_count": 220,
   "metadata": {},
   "outputs": [
    {
     "data": {
      "text/plain": [
       "<AxesSubplot:title={'center':'Covid'}, xlabel='Date'>"
      ]
     },
     "execution_count": 220,
     "metadata": {},
     "output_type": "execute_result"
    },
    {
     "data": {
      "image/png": "[encoded data removed]",
      "text/plain": [
       "<Figure size 432x288 with 1 Axes>"
      ]
     },
     "metadata": {
      "needs_background": "light"
     },
     "output_type": "display_data"
    }
   ],
   "source": [
    "# Plot the real vs predicted prices as a line chart\n",
    "# DF\n",
    "stocks_df.plot(title = 'Covid')"
   ]
  },
  {
   "cell_type": "code",
   "execution_count": null,
   "metadata": {},
   "outputs": [],
   "source": []
  },
  {
   "cell_type": "code",
   "execution_count": null,
   "metadata": {},
   "outputs": [],
   "source": []
  }
 ],
 "metadata": {
  "kernelspec": {
   "display_name": "Python 3",
   "language": "python",
   "name": "python3"
  },
  "language_info": {
   "codemirror_mode": {
    "name": "ipython",
    "version": 3
   },
   "file_extension": ".py",
   "mimetype": "text/x-python",
   "name": "python",
   "nbconvert_exporter": "python",
   "pygments_lexer": "ipython3",
   "version": "3.8.5"
  }
 },
 "nbformat": 4,
 "nbformat_minor": 5
}
