{
 "cells": [
  {
   "cell_type": "markdown",
   "id": "transparent-fishing",
   "metadata": {},
   "source": [
    "# LSTM Stock Predictor Using Closing Prices\n",
    "\n",
    "### Data Preparation\n",
    "\n",
    "### In this section, we will prepare the training and testing data for the LSTM model.\n",
    "\n",
    "### We will need to:\n",
    "    1. Use window_data function to generate X and y values for the model.\n",
    "    2. Split the data into 70% training and 30% testing\n",
    "    3. Apply the MinMaxScaler to the X and y values\n",
    "    4. Reshape the X_train and X_test data for the model.\n",
    "    \n",
    "### **Note**: The required input format for the LSTM is:\n",
    "\n",
    "            reshape((X_train.shape[0], X_train.shape[1], 1))    "
   ]
  },
  {
   "cell_type": "code",
   "execution_count": 20,
   "id": "heated-routine",
   "metadata": {},
   "outputs": [],
   "source": [
    "# Initial imports\n",
    "import numpy as np\n",
    "import pandas as pd\n",
    "from pathlib import Path\n",
    "import yfinance as yf\n",
    "%matplotlib inline"
   ]
  },
  {
   "cell_type": "code",
   "execution_count": 21,
   "id": "modern-wednesday",
   "metadata": {},
   "outputs": [],
   "source": [
    "# Set the random seed for reproducibility\n",
    "# Note: This is used for model prototyping, but it is good practice to comment this out and run multiple experiments to evaluate your model.\n",
    "from numpy.random import seed\n",
    "\n",
    "seed(1)\n",
    "from tensorflow import random\n",
    "\n",
    "random.set_seed(2)"
   ]
  },
  {
   "cell_type": "markdown",
   "id": "structured-image",
   "metadata": {},
   "source": [
    "### Data Loading\n",
    "\n",
    "In this activity, we will use closing prices from different stocks to make predictions of future closing prices based on the temporal data of each stock."
   ]
  },
  {
   "cell_type": "code",
   "execution_count": 23,
   "id": "junior-watts",
   "metadata": {},
   "outputs": [
    {
     "name": "stdout",
     "output_type": "stream",
     "text": [
      "[*********************100%***********************]  1 of 1 completed\n"
     ]
    }
   ],
   "source": [
    "# Historical Carnival Cruise Stock Price:\n",
    "# OHLCV using yfinance\n",
    "# Load the stocks data\n",
    "ccl = yf.download(\"CCL\", start=\"2016-01-01\", end=\"2021-01-21\", \n",
    "    index_col=\"Date\", infer_datetime_format=True, parse_dates=True)\n",
    "ccl.dropna(inplace=True)\n",
    "#ccl.head()"
   ]
  },
  {
   "cell_type": "code",
   "execution_count": 24,
   "id": "quantitative-entry",
   "metadata": {},
   "outputs": [
    {
     "name": "stdout",
     "output_type": "stream",
     "text": [
      "[*********************100%***********************]  1 of 1 completed\n"
     ]
    }
   ],
   "source": [
    "# Historical Delta Airlines Stock Price:\n",
    "# OHLCV using yfinance\n",
    "# Load the stocks data\n",
    "dal = yf.download(\"DAL\", start=\"2016-01-01\", end=\"2021-01-21\", \n",
    "    index_col=\"Date\", infer_datetime_format=True, parse_dates=True)\n",
    "dal.dropna(inplace=True)\n",
    "#dal.head()"
   ]
  },
  {
   "cell_type": "code",
   "execution_count": 25,
   "id": "sharing-frontier",
   "metadata": {},
   "outputs": [
    {
     "name": "stdout",
     "output_type": "stream",
     "text": [
      "[*********************100%***********************]  1 of 1 completed\n"
     ]
    }
   ],
   "source": [
    "# Historical ETSY Stock Price:\n",
    "# OHLCV using yfinance\n",
    "# Load the stocks data\n",
    "etsy = yf.download(\"ETSY\", start=\"2016-01-01\", end=\"2021-01-21\", \n",
    "    index_col=\"Date\", infer_datetime_format=True, parse_dates=True)\n",
    "etsy.dropna(inplace=True)\n",
    "#etsy.head()"
   ]
  },
  {
   "cell_type": "code",
   "execution_count": 26,
   "id": "younger-lawsuit",
   "metadata": {},
   "outputs": [
    {
     "name": "stdout",
     "output_type": "stream",
     "text": [
      "[*********************100%***********************]  1 of 1 completed\n"
     ]
    }
   ],
   "source": [
    "# Historical L Brands Stock Price:\n",
    "# OHLCV using yfinance\n",
    "# Load the stocks data\n",
    "LB = yf.download(\"LB\", start=\"2016-01-01\", end=\"2021-01-21\", \n",
    "    index_col=\"Date\", infer_datetime_format=True, parse_dates=True)\n",
    "LB.dropna(inplace=True)\n",
    "#LB.head()"
   ]
  },
  {
   "cell_type": "code",
   "execution_count": 27,
   "id": "understood-airport",
   "metadata": {},
   "outputs": [
    {
     "name": "stdout",
     "output_type": "stream",
     "text": [
      "[*********************100%***********************]  1 of 1 completed\n"
     ]
    }
   ],
   "source": [
    "# Historical SPY Stock Price:\n",
    "# OHLCV using yfinance\n",
    "# Load the stocks data\n",
    "spy = yf.download(\"SPY\", start=\"2016-01-01\", end=\"2021-01-21\", \n",
    "    index_col=\"Date\", infer_datetime_format=True, parse_dates=True)\n",
    "spy.dropna(inplace=True)\n",
    "#spy.head()"
   ]
  },
  {
   "cell_type": "code",
   "execution_count": 28,
   "id": "specified-tennessee",
   "metadata": {},
   "outputs": [],
   "source": [
    "ccl_df = ccl[['Close']].copy()\n",
    "dal_df = dal[['Close']].copy()\n",
    "etsy_df = etsy[['Close']].copy()\n",
    "LB_df = LB[['Close']].copy()\n",
    "spy_df = spy[['Close']].copy()"
   ]
  },
  {
   "cell_type": "code",
   "execution_count": 33,
   "id": "corporate-floating",
   "metadata": {},
   "outputs": [],
   "source": [
    "ccl_df.rename(columns = {'Close':'CCL'}, inplace = True) \n",
    "dal_df.rename(columns = {'Close':'DAL'}, inplace = True) \n",
    "etsy_df.rename(columns = {'Close':'ETSY'}, inplace = True) \n",
    "LB_df.rename(columns = {'Close':'LB'}, inplace = True) \n",
    "spy_df.rename(columns = {'Close':'SPY'}, inplace = True) \n",
    "#spy_df.head()"
   ]
  },
  {
   "cell_type": "code",
   "execution_count": 39,
   "id": "smoking-mainland",
   "metadata": {},
   "outputs": [
    {
     "data": {
      "text/html": [
       "<div>\n",
       "<style scoped>\n",
       "    .dataframe tbody tr th:only-of-type {\n",
       "        vertical-align: middle;\n",
       "    }\n",
       "\n",
       "    .dataframe tbody tr th {\n",
       "        vertical-align: top;\n",
       "    }\n",
       "\n",
       "    .dataframe thead th {\n",
       "        text-align: right;\n",
       "    }\n",
       "</style>\n",
       "<table border=\"1\" class=\"dataframe\">\n",
       "  <thead>\n",
       "    <tr style=\"text-align: right;\">\n",
       "      <th></th>\n",
       "      <th>CCL</th>\n",
       "      <th>DAL</th>\n",
       "      <th>ETSY</th>\n",
       "      <th>LB</th>\n",
       "      <th>SPY</th>\n",
       "    </tr>\n",
       "    <tr>\n",
       "      <th>Date</th>\n",
       "      <th></th>\n",
       "      <th></th>\n",
       "      <th></th>\n",
       "      <th></th>\n",
       "      <th></th>\n",
       "    </tr>\n",
       "  </thead>\n",
       "  <tbody>\n",
       "    <tr>\n",
       "      <th>2021-01-13</th>\n",
       "      <td>20.100000</td>\n",
       "      <td>40.450001</td>\n",
       "      <td>207.029999</td>\n",
       "      <td>46.160000</td>\n",
       "      <td>379.790009</td>\n",
       "    </tr>\n",
       "    <tr>\n",
       "      <th>2021-01-14</th>\n",
       "      <td>20.920000</td>\n",
       "      <td>41.470001</td>\n",
       "      <td>211.520004</td>\n",
       "      <td>44.980000</td>\n",
       "      <td>378.459991</td>\n",
       "    </tr>\n",
       "    <tr>\n",
       "      <th>2021-01-15</th>\n",
       "      <td>20.790001</td>\n",
       "      <td>39.980000</td>\n",
       "      <td>204.419998</td>\n",
       "      <td>45.200001</td>\n",
       "      <td>375.700012</td>\n",
       "    </tr>\n",
       "    <tr>\n",
       "      <th>2021-01-19</th>\n",
       "      <td>20.870001</td>\n",
       "      <td>40.310001</td>\n",
       "      <td>221.309998</td>\n",
       "      <td>45.730000</td>\n",
       "      <td>378.649994</td>\n",
       "    </tr>\n",
       "    <tr>\n",
       "      <th>2021-01-20</th>\n",
       "      <td>20.780001</td>\n",
       "      <td>41.619999</td>\n",
       "      <td>215.690002</td>\n",
       "      <td>45.560001</td>\n",
       "      <td>383.890015</td>\n",
       "    </tr>\n",
       "  </tbody>\n",
       "</table>\n",
       "</div>"
      ],
      "text/plain": [
       "                  CCL        DAL        ETSY         LB         SPY\n",
       "Date                                                               \n",
       "2021-01-13  20.100000  40.450001  207.029999  46.160000  379.790009\n",
       "2021-01-14  20.920000  41.470001  211.520004  44.980000  378.459991\n",
       "2021-01-15  20.790001  39.980000  204.419998  45.200001  375.700012\n",
       "2021-01-19  20.870001  40.310001  221.309998  45.730000  378.649994\n",
       "2021-01-20  20.780001  41.619999  215.690002  45.560001  383.890015"
      ]
     },
     "execution_count": 39,
     "metadata": {},
     "output_type": "execute_result"
    }
   ],
   "source": [
    "dfs = [ccl_df, dal_df, etsy_df, LB_df,spy_df ]\n",
    "df = pd.concat(dfs,axis=1,join=\"outer\",ignore_index=False)\n",
    "df.tail()"
   ]
  },
  {
   "cell_type": "markdown",
   "id": "satisfactory-equation",
   "metadata": {},
   "source": [
    "### Creating the Features X and Target y Data\n",
    "\n",
    "The first step towards preparing the data is to create the input features vectors X and the target vector y. We will use the window_data() function to create these vectors.\n",
    "\n",
    "This function chunks the data up with a rolling window of Xt - window to predict Xt.\n",
    "\n",
    "The function returns two numpy arrays:\n",
    "\n",
    " - X: The input features vectors.\n",
    "\n",
    " - y: The target vector.\n",
    "\n",
    "The function has the following parameters:\n",
    "\n",
    " - df: The original DataFrame with the time series data.\n",
    "\n",
    " - window: The window size in days of previous closing prices that will be used for the prediction.\n",
    "\n",
    " - feature_col_number: The column number from the original DataFrame where the features are located.\n",
    "\n",
    " - target_col_number: The column number from the original DataFrame where the target is located."
   ]
  },
  {
   "cell_type": "code",
   "execution_count": 41,
   "id": "casual-inclusion",
   "metadata": {},
   "outputs": [],
   "source": [
    "def window_data(df, window, feature_col_number, target_col_number):\n",
    "    \"\"\"\n",
    "    This function accepts the column number for the features (X) and the target (y).\n",
    "    It chunks the data up with a rolling window of Xt - window to predict Xt.\n",
    "    It returns two numpy arrays of X and y.\n",
    "    \"\"\"\n",
    "    X = []\n",
    "    y = []\n",
    "    for i in range(len(df) - window):\n",
    "        features = df.iloc[i : (i + window), feature_col_number]\n",
    "        target = df.iloc[(i + window), target_col_number]\n",
    "        X.append(features)\n",
    "        y.append(target)\n",
    "    return np.array(X), np.array(y).reshape(-1, 1)"
   ]
  },
  {
   "cell_type": "markdown",
   "id": "purple-document",
   "metadata": {},
   "source": [
    "We want to predict closing prices using a 5 days windows of previous closing prices, so that, we will create the X and y vectors by calling the window_data function and defining a window size of 5 and setting the features and target column numbers to (0, 1, 2, 3 )the respective column."
   ]
  },
  {
   "cell_type": "code",
   "execution_count": 240,
   "id": "green-impact",
   "metadata": {},
   "outputs": [
    {
     "name": "stdout",
     "output_type": "stream",
     "text": [
      "X sample values:\n",
      "[[201.02000427 201.36000061 198.82000732 194.05000305 191.91999817\n",
      "  192.11000061 193.66000366 188.83000183 191.92999268 187.80999756]\n",
      " [201.36000061 198.82000732 194.05000305 191.91999817 192.11000061\n",
      "  193.66000366 188.83000183 191.92999268 187.80999756 188.05999756]\n",
      " [198.82000732 194.05000305 191.91999817 192.11000061 193.66000366\n",
      "  188.83000183 191.92999268 187.80999756 188.05999756 185.6499939 ]\n",
      " [194.05000305 191.91999817 192.11000061 193.66000366 188.83000183\n",
      "  191.92999268 187.80999756 188.05999756 185.6499939  186.69000244]\n",
      " [191.91999817 192.11000061 193.66000366 188.83000183 191.92999268\n",
      "  187.80999756 188.05999756 185.6499939  186.69000244 190.52000427]] \n",
      "\n",
      "y sample values:\n",
      "[[188.05999756]\n",
      " [185.6499939 ]\n",
      " [186.69000244]\n",
      " [190.52000427]\n",
      " [187.63999939]]\n"
     ]
    }
   ],
   "source": [
    "# Creating the features (X) and target (y) data using the window_data() function.\n",
    "window_size = 10\n",
    "\n",
    "feature_column = 4\n",
    "target_column = 4\n",
    "X, y = window_data(df, window_size, feature_column, target_column)\n",
    "print (f\"X sample values:\\n{X[:5]} \\n\")\n",
    "print (f\"y sample values:\\n{y[:5]}\")"
   ]
  },
  {
   "cell_type": "markdown",
   "id": "direct-balloon",
   "metadata": {},
   "source": [
    "### Splitting Data Between Training and Testing Sets\n",
    "To avoid the dataset being randomized, we will manually split the data using array slicing."
   ]
  },
  {
   "cell_type": "code",
   "execution_count": 241,
   "id": "sixth-horse",
   "metadata": {},
   "outputs": [],
   "source": [
    "# Use 70% of the data for training and the remainder for testing\n",
    "split = int(0.7 * len(X))\n",
    "X_train = X[: split]\n",
    "X_test = X[split:]\n",
    "y_train = y[: split]\n",
    "y_test = y[split:]"
   ]
  },
  {
   "cell_type": "markdown",
   "id": "widespread-miami",
   "metadata": {},
   "source": [
    "### Scaling Data with MinMaxScaler\n",
    "Once the training and test datasets are created, we need to scale the data before training the LSTM model. We will use the MinMaxScaler from sklearn to scale all values between 0 and 1.\n",
    "\n",
    "Note that we scale both features and target sets."
   ]
  },
  {
   "cell_type": "code",
   "execution_count": 242,
   "id": "pleasant-painting",
   "metadata": {},
   "outputs": [],
   "source": [
    "# Use the MinMaxScaler to scale data between 0 and 1.\n",
    "from sklearn.preprocessing import MinMaxScaler\n",
    "\n",
    "scaler = MinMaxScaler()\n",
    "scaler.fit(X)\n",
    "X_train = scaler.transform(X_train)\n",
    "X_test = scaler.transform(X_test)\n",
    "scaler.fit(y)\n",
    "y_train = scaler.transform(y_train)\n",
    "y_test = scaler.transform(y_test)"
   ]
  },
  {
   "cell_type": "markdown",
   "id": "widespread-manufacturer",
   "metadata": {},
   "source": [
    "### Reshape Features Data for the LSTM Model\n",
    "The LSTM API from Keras needs to receive the features data as a vertical vector, so that we need to reshape the X data in the form reshape((X_train.shape[0], X_train.shape[1], 1)).\n",
    "\n",
    "Both sets, training, and testing are reshaped."
   ]
  },
  {
   "cell_type": "code",
   "execution_count": 243,
   "id": "foreign-mistress",
   "metadata": {},
   "outputs": [
    {
     "name": "stdout",
     "output_type": "stream",
     "text": [
      "X_train sample values:\n",
      "[[[0.0950686 ]\n",
      "  [0.0968485 ]\n",
      "  [0.08132902]\n",
      "  [0.05640122]\n",
      "  [0.04566531]\n",
      "  [0.04662298]\n",
      "  [0.0544355 ]\n",
      "  [0.03009073]\n",
      "  [0.04571568]\n",
      "  [0.02494958]]\n",
      "\n",
      " [[0.0968485 ]\n",
      "  [0.08355149]\n",
      "  [0.05702202]\n",
      "  [0.04566531]\n",
      "  [0.04662298]\n",
      "  [0.0544355 ]\n",
      "  [0.03009073]\n",
      "  [0.04571568]\n",
      "  [0.02494958]\n",
      "  [0.02620966]]\n",
      "\n",
      " [[0.08355149]\n",
      "  [0.05858026]\n",
      "  [0.04616794]\n",
      "  [0.04662298]\n",
      "  [0.0544355 ]\n",
      "  [0.03009073]\n",
      "  [0.04571568]\n",
      "  [0.02494958]\n",
      "  [0.02620966]\n",
      "  [0.01406247]]\n",
      "\n",
      " [[0.05858026]\n",
      "  [0.04742957]\n",
      "  [0.04713616]\n",
      "  [0.0544355 ]\n",
      "  [0.03009073]\n",
      "  [0.04571568]\n",
      "  [0.02494958]\n",
      "  [0.02620966]\n",
      "  [0.01406247]\n",
      "  [0.01930444]]\n",
      "\n",
      " [[0.04742957]\n",
      "  [0.04842425]\n",
      "  [0.05503467]\n",
      "  [0.03009073]\n",
      "  [0.04571568]\n",
      "  [0.02494958]\n",
      "  [0.02620966]\n",
      "  [0.01406247]\n",
      "  [0.01930444]\n",
      "  [0.03860889]]] \n",
      "\n",
      "X_test sample values:\n",
      "[[[0.59658677]\n",
      "  [0.59852371]\n",
      "  [0.58983888]\n",
      "  [0.58694552]\n",
      "  [0.59369954]\n",
      "  [0.5942036 ]\n",
      "  [0.58931448]\n",
      "  [0.57903218]\n",
      "  [0.58452611]\n",
      "  [0.57615931]]\n",
      "\n",
      " [[0.59852371]\n",
      "  [0.6059574 ]\n",
      "  [0.593406  ]\n",
      "  [0.59369954]\n",
      "  [0.5942036 ]\n",
      "  [0.58931448]\n",
      "  [0.57903218]\n",
      "  [0.58452611]\n",
      "  [0.57615931]\n",
      "  [0.57983865]]\n",
      "\n",
      " [[0.6059574 ]\n",
      "  [0.609622  ]\n",
      "  [0.60023436]\n",
      "  [0.5942036 ]\n",
      "  [0.58931448]\n",
      "  [0.57903218]\n",
      "  [0.58452611]\n",
      "  [0.57615931]\n",
      "  [0.57983865]\n",
      "  [0.59057456]]\n",
      "\n",
      " [[0.609622  ]\n",
      "  [0.61663695]\n",
      "  [0.60074397]\n",
      "  [0.58931448]\n",
      "  [0.57903218]\n",
      "  [0.58452611]\n",
      "  [0.57615931]\n",
      "  [0.57983865]\n",
      "  [0.59057456]\n",
      "  [0.59768143]]\n",
      "\n",
      " [[0.61663695]\n",
      "  [0.61716049]\n",
      "  [0.59580103]\n",
      "  [0.57903218]\n",
      "  [0.58452611]\n",
      "  [0.57615931]\n",
      "  [0.57983865]\n",
      "  [0.59057456]\n",
      "  [0.59768143]\n",
      "  [0.59042336]]]\n"
     ]
    }
   ],
   "source": [
    "# Reshape the features for the model\n",
    "X_train = X_train.reshape((X_train.shape[0], X_train.shape[1], 1))\n",
    "X_test = X_test.reshape((X_test.shape[0], X_test.shape[1], 1))\n",
    "print (f\"X_train sample values:\\n{X_train[:5]} \\n\")\n",
    "print (f\"X_test sample values:\\n{X_test[:5]}\")"
   ]
  },
  {
   "cell_type": "markdown",
   "id": "induced-courtesy",
   "metadata": {},
   "source": [
    "### Build and Train the LSTM RNN\n",
    "In this section, we will design a custom LSTM RNN in Keras and fit (train) it using the training data we defined.\n",
    "\n",
    "We will need to:\n",
    "\n",
    " 1. Define the model architecture in Keras.\n",
    "\n",
    " 2. Compile the model.\n",
    "\n",
    " 3. Fit the model to the training data.\n",
    "\n",
    "#### Importing the Keras Modules\n",
    "The LSTM RNN model in Keras uses the Sequential model and the LSTM layer as we did before. However, there is a new type of layer called Dropout.\n",
    "\n",
    " - Dropout: Dropout is a regularization technique for reducing overfitting in neural networks. This type of layer applies the dropout technique to the input."
   ]
  },
  {
   "cell_type": "code",
   "execution_count": 244,
   "id": "fitting-integral",
   "metadata": {},
   "outputs": [],
   "source": [
    "# Import required Keras modules\n",
    "from tensorflow.keras.models import Sequential\n",
    "from tensorflow.keras.layers import LSTM, Dense, Dropout"
   ]
  },
  {
   "cell_type": "markdown",
   "id": "exotic-dayton",
   "metadata": {},
   "source": [
    "### Defining the LSTM RNN Model Structure\n",
    "To create an LSTM RNN model, we will add LSTM layers. The return_sequences parameter needs to set to True every time we add a new LSTM layer, excluding the final layer. The input_shape is the number of time steps and the number of indicators\n",
    "\n",
    "After each LSTM layer, we add a Dropout layer to prevent overfitting. The parameter passed to the Dropout layer is the fraction of nodes that will be drop on each epoch, for this demo, we will use a dropout value of 0.2, it means that on each epoch we will randomly drop 20% of the units.\n",
    "\n",
    "The number of units in each LSTM layers, is equal to the size of the time window, in this demo, we are taking five previous  closing prices to predict the next closing price."
   ]
  },
  {
   "cell_type": "code",
   "execution_count": 245,
   "id": "therapeutic-import",
   "metadata": {},
   "outputs": [],
   "source": [
    "# Define the LSTM RNN model.\n",
    "model = Sequential()\n",
    "\n",
    "number_units = 5\n",
    "dropout_fraction = 0.2\n",
    "\n",
    "# Layer 1\n",
    "model.add(LSTM(\n",
    "    units=number_units,\n",
    "    return_sequences=True,\n",
    "    input_shape=(X_train.shape[1], 1))\n",
    "    )\n",
    "model.add(Dropout(dropout_fraction))\n",
    "# Layer 2\n",
    "model.add(LSTM(units=number_units, return_sequences=True))\n",
    "model.add(Dropout(dropout_fraction))\n",
    "# Layer 3\n",
    "model.add(LSTM(units=number_units))#, return_sequences=True))\n",
    "model.add(Dropout(dropout_fraction))\n",
    "\n",
    "# Layer 4\n",
    "#model.add(LSTM(units=number_units))\n",
    "#model.add(Dropout(dropout_fraction))\n",
    "\n",
    "\n",
    "\n",
    "\n",
    "\n",
    "# Output layer\n",
    "model.add(Dense(1))"
   ]
  },
  {
   "cell_type": "markdown",
   "id": "thrown-there",
   "metadata": {},
   "source": [
    "### Compiling the LSTM RNN Model\n",
    "We will compile the model, using the adam optimizer, as loss function, we will use mean_square_error since the value we want to predict is continuous."
   ]
  },
  {
   "cell_type": "code",
   "execution_count": 246,
   "id": "collaborative-discrimination",
   "metadata": {},
   "outputs": [],
   "source": [
    "# Compile the model\n",
    "model.compile(optimizer=\"adam\", loss=\"mean_squared_error\")"
   ]
  },
  {
   "cell_type": "code",
   "execution_count": 247,
   "id": "exposed-productivity",
   "metadata": {},
   "outputs": [
    {
     "name": "stdout",
     "output_type": "stream",
     "text": [
      "Model: \"sequential_11\"\n",
      "_________________________________________________________________\n",
      "Layer (type)                 Output Shape              Param #   \n",
      "=================================================================\n",
      "lstm_37 (LSTM)               (None, 10, 5)             140       \n",
      "_________________________________________________________________\n",
      "dropout_36 (Dropout)         (None, 10, 5)             0         \n",
      "_________________________________________________________________\n",
      "lstm_38 (LSTM)               (None, 10, 5)             220       \n",
      "_________________________________________________________________\n",
      "dropout_37 (Dropout)         (None, 10, 5)             0         \n",
      "_________________________________________________________________\n",
      "lstm_39 (LSTM)               (None, 5)                 220       \n",
      "_________________________________________________________________\n",
      "dropout_38 (Dropout)         (None, 5)                 0         \n",
      "_________________________________________________________________\n",
      "dense_10 (Dense)             (None, 1)                 6         \n",
      "=================================================================\n",
      "Total params: 586\n",
      "Trainable params: 586\n",
      "Non-trainable params: 0\n",
      "_________________________________________________________________\n"
     ]
    }
   ],
   "source": [
    "# Summarize the model\n",
    "model.summary()"
   ]
  },
  {
   "cell_type": "markdown",
   "id": "induced-samuel",
   "metadata": {},
   "source": [
    "### Training the Model\n",
    "Once the model is defined, we train (fit) the model using 10 epochs. Since we are working with time-series data, it's important to set shuffle=False since it's necessary to keep the sequential order of the data.\n",
    "\n",
    "We can experiment with the batch_size parameter; however, smaller batch size is recommended; in this demo, we will use a batch_size=1."
   ]
  },
  {
   "cell_type": "code",
   "execution_count": 248,
   "id": "forced-commons",
   "metadata": {},
   "outputs": [
    {
     "name": "stdout",
     "output_type": "stream",
     "text": [
      "Epoch 1/10\n",
      "59/59 [==============================] - 4s 7ms/step - loss: 0.0089\n",
      "Epoch 2/10\n",
      "59/59 [==============================] - 0s 7ms/step - loss: 0.0317\n",
      "Epoch 3/10\n",
      "59/59 [==============================] - 0s 7ms/step - loss: 0.0364\n",
      "Epoch 4/10\n",
      "59/59 [==============================] - 0s 8ms/step - loss: 0.0312\n",
      "Epoch 5/10\n",
      "59/59 [==============================] - 0s 7ms/step - loss: 0.0194\n",
      "Epoch 6/10\n",
      "59/59 [==============================] - 0s 7ms/step - loss: 0.0112\n",
      "Epoch 7/10\n",
      "59/59 [==============================] - 0s 7ms/step - loss: 0.0083\n",
      "Epoch 8/10\n",
      "59/59 [==============================] - 0s 7ms/step - loss: 0.0055\n",
      "Epoch 9/10\n",
      "59/59 [==============================] - 0s 7ms/step - loss: 0.0045\n",
      "Epoch 10/10\n",
      "59/59 [==============================] - 0s 7ms/step - loss: 0.0031\n"
     ]
    },
    {
     "data": {
      "text/plain": [
       "<tensorflow.python.keras.callbacks.History at 0x1c0eb4160c8>"
      ]
     },
     "execution_count": 248,
     "metadata": {},
     "output_type": "execute_result"
    }
   ],
   "source": [
    "# Train the model\n",
    "model.fit(X_train, y_train, epochs=10, shuffle=False, batch_size=15, verbose=1)"
   ]
  },
  {
   "cell_type": "markdown",
   "id": "german-henry",
   "metadata": {},
   "source": [
    "### Model Performance\n",
    "In this section, we will evaluate the model using the test data.\n",
    "\n",
    "We will need to:\n",
    "\n",
    " 1. Evaluate the model using the X_test and y_test data.\n",
    "\n",
    " 2. Use the X_test data to make predictions.\n",
    "\n",
    " 3. Create a DataFrame of real (y_test) vs predicted values.\n",
    "\n",
    " 4. Plot the Real vs predicted values as a line chart.\n",
    "\n",
    "### Evaluate the Model\n",
    "It's time to evaluate our model to assess its performance. We will use the evaluate method using the testing data."
   ]
  },
  {
   "cell_type": "code",
   "execution_count": 249,
   "id": "grand-investigation",
   "metadata": {},
   "outputs": [
    {
     "name": "stdout",
     "output_type": "stream",
     "text": [
      "12/12 [==============================] - 1s 2ms/step - loss: 0.0124\n"
     ]
    },
    {
     "data": {
      "text/plain": [
       "0.012417896650731564"
      ]
     },
     "execution_count": 249,
     "metadata": {},
     "output_type": "execute_result"
    }
   ],
   "source": [
    "# Evaluate the model\n",
    "model.evaluate(X_test, y_test)"
   ]
  },
  {
   "cell_type": "markdown",
   "id": "clinical-hospital",
   "metadata": {},
   "source": [
    "### Making Predictions\n",
    "We will make some closing price predictions using our brand new LSTM RNN model and our testing data."
   ]
  },
  {
   "cell_type": "code",
   "execution_count": 250,
   "id": "going-panel",
   "metadata": {},
   "outputs": [],
   "source": [
    "# Make some predictions\n",
    "predicted = model.predict(X_test)"
   ]
  },
  {
   "cell_type": "markdown",
   "id": "growing-foster",
   "metadata": {},
   "source": [
    "Since we scaled the original values using the MinMaxScaler, we need to recover the original prices to better understand the predictions.\n",
    "\n",
    "We will use the inverse_transform() method of the scaler to decode the scaled values to their original scale."
   ]
  },
  {
   "cell_type": "code",
   "execution_count": 251,
   "id": "identical-customs",
   "metadata": {},
   "outputs": [],
   "source": [
    "# Recover the original prices instead of the scaled version\n",
    "predicted_prices = scaler.inverse_transform(predicted)\n",
    "real_prices = scaler.inverse_transform(y_test.reshape(-1, 1))"
   ]
  },
  {
   "cell_type": "markdown",
   "id": "appropriate-midnight",
   "metadata": {},
   "source": [
    "### Plotting Predicted Vs. Real Prices\n",
    "To plot the predicted vs. the real values, we will create a DataFrame."
   ]
  },
  {
   "cell_type": "code",
   "execution_count": 252,
   "id": "documentary-palestinian",
   "metadata": {},
   "outputs": [
    {
     "data": {
      "text/html": [
       "<div>\n",
       "<style scoped>\n",
       "    .dataframe tbody tr th:only-of-type {\n",
       "        vertical-align: middle;\n",
       "    }\n",
       "\n",
       "    .dataframe tbody tr th {\n",
       "        vertical-align: top;\n",
       "    }\n",
       "\n",
       "    .dataframe thead th {\n",
       "        text-align: right;\n",
       "    }\n",
       "</style>\n",
       "<table border=\"1\" class=\"dataframe\">\n",
       "  <thead>\n",
       "    <tr style=\"text-align: right;\">\n",
       "      <th></th>\n",
       "      <th>Real</th>\n",
       "      <th>Predicted</th>\n",
       "    </tr>\n",
       "    <tr>\n",
       "      <th>Date</th>\n",
       "      <th></th>\n",
       "      <th></th>\n",
       "    </tr>\n",
       "  </thead>\n",
       "  <tbody>\n",
       "    <tr>\n",
       "      <th>2021-01-13</th>\n",
       "      <td>379.790009</td>\n",
       "      <td>331.031036</td>\n",
       "    </tr>\n",
       "    <tr>\n",
       "      <th>2021-01-14</th>\n",
       "      <td>378.459991</td>\n",
       "      <td>331.292053</td>\n",
       "    </tr>\n",
       "    <tr>\n",
       "      <th>2021-01-15</th>\n",
       "      <td>375.700012</td>\n",
       "      <td>331.565002</td>\n",
       "    </tr>\n",
       "    <tr>\n",
       "      <th>2021-01-19</th>\n",
       "      <td>378.649994</td>\n",
       "      <td>331.750885</td>\n",
       "    </tr>\n",
       "    <tr>\n",
       "      <th>2021-01-20</th>\n",
       "      <td>383.890015</td>\n",
       "      <td>332.352661</td>\n",
       "    </tr>\n",
       "  </tbody>\n",
       "</table>\n",
       "</div>"
      ],
      "text/plain": [
       "                  Real   Predicted\n",
       "Date                              \n",
       "2021-01-13  379.790009  331.031036\n",
       "2021-01-14  378.459991  331.292053\n",
       "2021-01-15  375.700012  331.565002\n",
       "2021-01-19  378.649994  331.750885\n",
       "2021-01-20  383.890015  332.352661"
      ]
     },
     "execution_count": 252,
     "metadata": {},
     "output_type": "execute_result"
    }
   ],
   "source": [
    "# Create a DataFrame of Real and Predicted values\n",
    "stocks = pd.DataFrame({\n",
    "    \"Real\": real_prices.ravel(),\n",
    "    \"Predicted\": predicted_prices.ravel()\n",
    "    }, index = df.index[-len(real_prices): ])\n",
    "stocks.tail()"
   ]
  },
  {
   "cell_type": "code",
   "execution_count": 253,
   "id": "quantitative-rebecca",
   "metadata": {},
   "outputs": [
    {
     "data": {
      "text/plain": [
       "<AxesSubplot:xlabel='Date'>"
      ]
     },
     "execution_count": 253,
     "metadata": {},
     "output_type": "execute_result"
    },
    {
     "data": {
      "image/png": "[encoded data removed]",
      "text/plain": [
       "<Figure size 432x288 with 1 Axes>"
      ]
     },
     "metadata": {
      "needs_background": "light"
     },
     "output_type": "display_data"
    }
   ],
   "source": [
    "# Plot the real vs predicted prices as a line chart\n",
    "stocks.plot()"
   ]
  },
  {
   "cell_type": "code",
   "execution_count": null,
   "id": "thirty-munich",
   "metadata": {},
   "outputs": [],
   "source": []
  }
 ],
 "metadata": {
  "kernelspec": {
   "display_name": "deeplearning",
   "language": "python",
   "name": "deeplearning"
  },
  "language_info": {
   "codemirror_mode": {
    "name": "ipython",
    "version": 3
   },
   "file_extension": ".py",
   "mimetype": "text/x-python",
   "name": "python",
   "nbconvert_exporter": "python",
   "pygments_lexer": "ipython3",
   "version": "3.7.9"
  }
 },
 "nbformat": 4,
 "nbformat_minor": 5
}
